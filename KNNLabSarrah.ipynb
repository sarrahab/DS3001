{
 "cells": [
  {
   "cell_type": "markdown",
   "metadata": {},
   "source": [
    "# Machine Learning Lab 4, kNN College Retention Data"
   ]
  },
  {
   "cell_type": "code",
   "execution_count": 70,
   "metadata": {},
   "outputs": [],
   "source": [
    "#code123 (for extra credit)\n",
    "# Imports\n",
    "import pandas as pd\n",
    "import numpy as np \n",
    "#make sure to install sklearn in your terminal first!\n",
    "from sklearn.model_selection import train_test_split \n",
    "from sklearn.preprocessing import MinMaxScaler, StandardScaler\n",
    "from sklearn.neighbors import KNeighborsClassifier\n",
    "from matplotlib import pyplot as plt"
   ]
  },
  {
   "cell_type": "markdown",
   "metadata": {},
   "source": [
    "## Phase 1: Question\n"
   ]
  },
  {
   "cell_type": "markdown",
   "metadata": {},
   "source": [
    "### How good of a machine learning model can we build to predict student retainment?"
   ]
  },
  {
   "cell_type": "code",
   "execution_count": 71,
   "metadata": {},
   "outputs": [
    {
     "name": "stdout",
     "output_type": "stream",
     "text": [
      "<class 'pandas.core.frame.DataFrame'>\n",
      "RangeIndex: 3798 entries, 0 to 3797\n",
      "Data columns (total 62 columns):\n",
      " #   Column                                Non-Null Count  Dtype  \n",
      "---  ------                                --------------  -----  \n",
      " 0   unitid                                3798 non-null   int64  \n",
      " 1   chronname                             3798 non-null   object \n",
      " 2   city                                  3798 non-null   object \n",
      " 3   state                                 3798 non-null   object \n",
      " 4   level                                 3798 non-null   object \n",
      " 5   control                               3798 non-null   object \n",
      " 6   basic                                 3798 non-null   object \n",
      " 7   hbcu                                  94 non-null     object \n",
      " 8   flagship                              50 non-null     object \n",
      " 9   long_x                                3798 non-null   float64\n",
      " 10  lat_y                                 3798 non-null   float64\n",
      " 11  site                                  3779 non-null   object \n",
      " 12  student_count                         3798 non-null   int64  \n",
      " 13  awards_per_value                      3798 non-null   float64\n",
      " 14  awards_per_state_value                3798 non-null   float64\n",
      " 15  awards_per_natl_value                 3798 non-null   float64\n",
      " 16  exp_award_value                       3798 non-null   int64  \n",
      " 17  exp_award_state_value                 3798 non-null   int64  \n",
      " 18  exp_award_natl_value                  3798 non-null   int64  \n",
      " 19  exp_award_percentile                  3798 non-null   int64  \n",
      " 20  ft_pct                                3794 non-null   float64\n",
      " 21  fte_value                             3798 non-null   int64  \n",
      " 22  fte_percentile                        3798 non-null   int64  \n",
      " 23  med_sat_value                         1337 non-null   float64\n",
      " 24  med_sat_percentile                    1337 non-null   float64\n",
      " 25  aid_value                             3797 non-null   float64\n",
      " 26  aid_percentile                        3797 non-null   float64\n",
      " 27  endow_value                           2323 non-null   float64\n",
      " 28  endow_percentile                      2323 non-null   float64\n",
      " 29  grad_100_value                        3467 non-null   float64\n",
      " 30  grad_100_percentile                   3467 non-null   float64\n",
      " 31  grad_150_value                        3467 non-null   float64\n",
      " 32  grad_150_percentile                   3467 non-null   float64\n",
      " 33  pell_value                            3797 non-null   float64\n",
      " 34  pell_percentile                       3797 non-null   float64\n",
      " 35  retain_value                          3535 non-null   float64\n",
      " 36  retain_percentile                     3535 non-null   float64\n",
      " 37  ft_fac_value                          3785 non-null   float64\n",
      " 38  ft_fac_percentile                     3785 non-null   float64\n",
      " 39  vsa_year                              279 non-null    float64\n",
      " 40  vsa_grad_after4_first                 279 non-null    float64\n",
      " 41  vsa_grad_elsewhere_after4_first       279 non-null    float64\n",
      " 42  vsa_enroll_after4_first               279 non-null    float64\n",
      " 43  vsa_enroll_elsewhere_after4_first     279 non-null    float64\n",
      " 44  vsa_grad_after6_first                 279 non-null    float64\n",
      " 45  vsa_grad_elsewhere_after6_first       279 non-null    float64\n",
      " 46  vsa_enroll_after6_first               279 non-null    float64\n",
      " 47  vsa_enroll_elsewhere_after6_first     279 non-null    float64\n",
      " 48  vsa_grad_after4_transfer              270 non-null    float64\n",
      " 49  vsa_grad_elsewhere_after4_transfer    270 non-null    float64\n",
      " 50  vsa_enroll_after4_transfer            270 non-null    float64\n",
      " 51  vsa_enroll_elsewhere_after4_transfer  270 non-null    float64\n",
      " 52  vsa_grad_after6_transfer              270 non-null    float64\n",
      " 53  vsa_grad_elsewhere_after6_transfer    270 non-null    float64\n",
      " 54  vsa_enroll_after6_transfer            270 non-null    float64\n",
      " 55  vsa_enroll_elsewhere_after6_transfer  270 non-null    float64\n",
      " 56  similar                               3579 non-null   object \n",
      " 57  state_sector_ct                       3798 non-null   int64  \n",
      " 58  carnegie_ct                           3798 non-null   int64  \n",
      " 59  counted_pct                           3372 non-null   object \n",
      " 60  nicknames                             310 non-null    object \n",
      " 61  cohort_size                           3467 non-null   float64\n",
      "dtypes: float64(40), int64(10), object(12)\n",
      "memory usage: 1.8+ MB\n"
     ]
    }
   ],
   "source": [
    "#read in the college completion dataset, you should have this locally or you can use the URL linking to the class repo below\n",
    "\n",
    "colcomp = pd.read_csv(\"C:/Users/Student/Downloads/cc_institution_details.csv\", encoding='latin1')\n",
    "\n",
    "colcomp.info() # Let's check the structure of the dataset"
   ]
  },
  {
   "cell_type": "code",
   "execution_count": 72,
   "metadata": {},
   "outputs": [
    {
     "data": {
      "text/html": [
       "<div>\n",
       "<style scoped>\n",
       "    .dataframe tbody tr th:only-of-type {\n",
       "        vertical-align: middle;\n",
       "    }\n",
       "\n",
       "    .dataframe tbody tr th {\n",
       "        vertical-align: top;\n",
       "    }\n",
       "\n",
       "    .dataframe thead th {\n",
       "        text-align: right;\n",
       "    }\n",
       "</style>\n",
       "<table border=\"1\" class=\"dataframe\">\n",
       "  <thead>\n",
       "    <tr style=\"text-align: right;\">\n",
       "      <th></th>\n",
       "      <th>chronname</th>\n",
       "      <th>level</th>\n",
       "      <th>control</th>\n",
       "      <th>basic</th>\n",
       "      <th>hbcu</th>\n",
       "      <th>flagship</th>\n",
       "      <th>student_count</th>\n",
       "      <th>awards_per_value</th>\n",
       "      <th>exp_award_value</th>\n",
       "      <th>ft_pct</th>\n",
       "      <th>aid_value</th>\n",
       "      <th>endow_value</th>\n",
       "      <th>grad_100_value</th>\n",
       "      <th>grad_150_value</th>\n",
       "      <th>pell_value</th>\n",
       "      <th>retain_value</th>\n",
       "      <th>ft_fac_value</th>\n",
       "      <th>cohort_size</th>\n",
       "    </tr>\n",
       "  </thead>\n",
       "  <tbody>\n",
       "    <tr>\n",
       "      <th>0</th>\n",
       "      <td>Alabama A&amp;M University</td>\n",
       "      <td>4-year</td>\n",
       "      <td>Public</td>\n",
       "      <td>Masters Colleges and Universities--larger prog...</td>\n",
       "      <td>X</td>\n",
       "      <td>NaN</td>\n",
       "      <td>4051</td>\n",
       "      <td>14.2</td>\n",
       "      <td>105331</td>\n",
       "      <td>93.8</td>\n",
       "      <td>7142.0</td>\n",
       "      <td>NaN</td>\n",
       "      <td>10.0</td>\n",
       "      <td>29.1</td>\n",
       "      <td>71.2</td>\n",
       "      <td>63.1</td>\n",
       "      <td>82.8</td>\n",
       "      <td>882.0</td>\n",
       "    </tr>\n",
       "    <tr>\n",
       "      <th>1</th>\n",
       "      <td>University of Alabama at Birmingham</td>\n",
       "      <td>4-year</td>\n",
       "      <td>Public</td>\n",
       "      <td>Research Universities--very high research acti...</td>\n",
       "      <td>NaN</td>\n",
       "      <td>NaN</td>\n",
       "      <td>11502</td>\n",
       "      <td>20.9</td>\n",
       "      <td>136546</td>\n",
       "      <td>72.7</td>\n",
       "      <td>6088.0</td>\n",
       "      <td>24136.0</td>\n",
       "      <td>29.4</td>\n",
       "      <td>53.5</td>\n",
       "      <td>35.1</td>\n",
       "      <td>80.2</td>\n",
       "      <td>92.4</td>\n",
       "      <td>1376.0</td>\n",
       "    </tr>\n",
       "    <tr>\n",
       "      <th>2</th>\n",
       "      <td>Amridge University</td>\n",
       "      <td>4-year</td>\n",
       "      <td>Private not-for-profit</td>\n",
       "      <td>Baccalaureate Colleges--Arts &amp; Sciences</td>\n",
       "      <td>NaN</td>\n",
       "      <td>NaN</td>\n",
       "      <td>322</td>\n",
       "      <td>29.9</td>\n",
       "      <td>58414</td>\n",
       "      <td>62.7</td>\n",
       "      <td>2540.0</td>\n",
       "      <td>302.0</td>\n",
       "      <td>0.0</td>\n",
       "      <td>66.7</td>\n",
       "      <td>68.4</td>\n",
       "      <td>37.5</td>\n",
       "      <td>67.2</td>\n",
       "      <td>3.0</td>\n",
       "    </tr>\n",
       "    <tr>\n",
       "      <th>3</th>\n",
       "      <td>University of Alabama at Huntsville</td>\n",
       "      <td>4-year</td>\n",
       "      <td>Public</td>\n",
       "      <td>Research Universities--very high research acti...</td>\n",
       "      <td>NaN</td>\n",
       "      <td>NaN</td>\n",
       "      <td>5696</td>\n",
       "      <td>20.9</td>\n",
       "      <td>64418</td>\n",
       "      <td>74.4</td>\n",
       "      <td>6647.0</td>\n",
       "      <td>11502.0</td>\n",
       "      <td>16.5</td>\n",
       "      <td>48.4</td>\n",
       "      <td>32.8</td>\n",
       "      <td>81.0</td>\n",
       "      <td>65.5</td>\n",
       "      <td>759.0</td>\n",
       "    </tr>\n",
       "    <tr>\n",
       "      <th>4</th>\n",
       "      <td>Alabama State University</td>\n",
       "      <td>4-year</td>\n",
       "      <td>Public</td>\n",
       "      <td>Masters Colleges and Universities--larger prog...</td>\n",
       "      <td>X</td>\n",
       "      <td>NaN</td>\n",
       "      <td>5356</td>\n",
       "      <td>11.6</td>\n",
       "      <td>132407</td>\n",
       "      <td>91.0</td>\n",
       "      <td>7256.0</td>\n",
       "      <td>13202.0</td>\n",
       "      <td>8.8</td>\n",
       "      <td>25.2</td>\n",
       "      <td>82.7</td>\n",
       "      <td>62.2</td>\n",
       "      <td>67.0</td>\n",
       "      <td>1351.0</td>\n",
       "    </tr>\n",
       "  </tbody>\n",
       "</table>\n",
       "</div>"
      ],
      "text/plain": [
       "                             chronname   level                 control  \\\n",
       "0               Alabama A&M University  4-year                  Public   \n",
       "1  University of Alabama at Birmingham  4-year                  Public   \n",
       "2                   Amridge University  4-year  Private not-for-profit   \n",
       "3  University of Alabama at Huntsville  4-year                  Public   \n",
       "4             Alabama State University  4-year                  Public   \n",
       "\n",
       "                                               basic hbcu flagship  \\\n",
       "0  Masters Colleges and Universities--larger prog...    X      NaN   \n",
       "1  Research Universities--very high research acti...  NaN      NaN   \n",
       "2            Baccalaureate Colleges--Arts & Sciences  NaN      NaN   \n",
       "3  Research Universities--very high research acti...  NaN      NaN   \n",
       "4  Masters Colleges and Universities--larger prog...    X      NaN   \n",
       "\n",
       "   student_count  awards_per_value  exp_award_value  ft_pct  aid_value  \\\n",
       "0           4051              14.2           105331    93.8     7142.0   \n",
       "1          11502              20.9           136546    72.7     6088.0   \n",
       "2            322              29.9            58414    62.7     2540.0   \n",
       "3           5696              20.9            64418    74.4     6647.0   \n",
       "4           5356              11.6           132407    91.0     7256.0   \n",
       "\n",
       "   endow_value  grad_100_value  grad_150_value  pell_value  retain_value  \\\n",
       "0          NaN            10.0            29.1        71.2          63.1   \n",
       "1      24136.0            29.4            53.5        35.1          80.2   \n",
       "2        302.0             0.0            66.7        68.4          37.5   \n",
       "3      11502.0            16.5            48.4        32.8          81.0   \n",
       "4      13202.0             8.8            25.2        82.7          62.2   \n",
       "\n",
       "   ft_fac_value  cohort_size  \n",
       "0          82.8        882.0  \n",
       "1          92.4       1376.0  \n",
       "2          67.2          3.0  \n",
       "3          65.5        759.0  \n",
       "4          67.0       1351.0  "
      ]
     },
     "execution_count": 72,
     "metadata": {},
     "output_type": "execute_result"
    }
   ],
   "source": [
    "colcomp = colcomp.drop(\n",
    "    ['med_sat_value', 'med_sat_percentile', 'long_x', \n",
    "     'lat_y', 'site', 'unitid', 'city',\n",
    "     'nicknames', 'similar'], axis=1)\n",
    "\n",
    "colcomp.drop(\n",
    "    columns=colcomp.columns[[1, 9, 10, 12, 13, 14, 16, 17, 19, 21, 23, 25, 27, 29, 31] + list(range(32, 52))], inplace=True\n",
    ")\n",
    "colcomp.head()"
   ]
  },
  {
   "cell_type": "code",
   "execution_count": 73,
   "metadata": {},
   "outputs": [
    {
     "name": "stdout",
     "output_type": "stream",
     "text": [
      "<class 'pandas.core.frame.DataFrame'>\n",
      "RangeIndex: 3798 entries, 0 to 3797\n",
      "Data columns (total 18 columns):\n",
      " #   Column            Non-Null Count  Dtype   \n",
      "---  ------            --------------  -----   \n",
      " 0   chronname         3798 non-null   object  \n",
      " 1   level             3798 non-null   category\n",
      " 2   control           3798 non-null   category\n",
      " 3   basic             3798 non-null   category\n",
      " 4   hbcu              3798 non-null   category\n",
      " 5   flagship          3798 non-null   category\n",
      " 6   student_count     3798 non-null   int64   \n",
      " 7   awards_per_value  3798 non-null   float64 \n",
      " 8   exp_award_value   3798 non-null   int64   \n",
      " 9   ft_pct            3794 non-null   float64 \n",
      " 10  aid_value         3797 non-null   float64 \n",
      " 11  endow_value       2323 non-null   float64 \n",
      " 12  grad_100_value    3467 non-null   float64 \n",
      " 13  grad_150_value    3467 non-null   float64 \n",
      " 14  pell_value        3797 non-null   float64 \n",
      " 15  retain_value      3535 non-null   float64 \n",
      " 16  ft_fac_value      3785 non-null   float64 \n",
      " 17  cohort_size       3467 non-null   float64 \n",
      "dtypes: category(5), float64(10), int64(2), object(1)\n",
      "memory usage: 406.2+ KB\n"
     ]
    }
   ],
   "source": [
    "colcomp['basic'] = colcomp.basic.astype('category')\n",
    "colcomp['control'] = colcomp.control.astype('category')\n",
    "colcomp['level'] = colcomp.level.astype('category')\n",
    "colcomp['flagship']=[1 if colcomp['flagship'][i]=='X' else 0 for i in range(len(colcomp['hbcu']))]\n",
    "colcomp['flagship'] = colcomp.flagship.astype('category')\n",
    "colcomp['hbcu']= [1 if colcomp['hbcu'][i]=='X' else 0 for i in range(len(colcomp['hbcu']))]\n",
    "colcomp['hbcu'] = colcomp.hbcu.astype('category')\n",
    "\n",
    "colcomp.info()"
   ]
  },
  {
   "cell_type": "code",
   "execution_count": 74,
   "metadata": {},
   "outputs": [
    {
     "name": "stderr",
     "output_type": "stream",
     "text": [
      "c:\\Users\\Student\\miniconda3\\Lib\\site-packages\\seaborn\\axisgrid.py:118: UserWarning: The figure layout has changed to tight\n",
      "  self._figure.tight_layout(*args, **kwargs)\n"
     ]
    },
    {
     "data": {
      "text/plain": [
       "<seaborn.axisgrid.FacetGrid at 0x1f881c87990>"
      ]
     },
     "execution_count": 74,
     "metadata": {},
     "output_type": "execute_result"
    },
    {
     "data": {
      "image/png": "[encoded data removed]",
      "text/plain": [
       "<Figure size 709.875x500 with 1 Axes>"
      ]
     },
     "metadata": {},
     "output_type": "display_data"
    }
   ],
   "source": [
    "import seaborn as sns\n",
    "sns.displot(\n",
    "    data=colcomp.isna().melt(value_name=\"blank\"),\n",
    "    y=\"variable\",\n",
    "    hue=\"blank\",\n",
    "    multiple=\"fill\",\n",
    "    aspect=1.25\n",
    ")"
   ]
  },
  {
   "cell_type": "code",
   "execution_count": 75,
   "metadata": {},
   "outputs": [
    {
     "name": "stderr",
     "output_type": "stream",
     "text": [
      "c:\\Users\\Student\\miniconda3\\Lib\\site-packages\\seaborn\\axisgrid.py:118: UserWarning: The figure layout has changed to tight\n",
      "  self._figure.tight_layout(*args, **kwargs)\n"
     ]
    },
    {
     "data": {
      "text/plain": [
       "<seaborn.axisgrid.FacetGrid at 0x1f883a95590>"
      ]
     },
     "execution_count": 75,
     "metadata": {},
     "output_type": "execute_result"
    },
    {
     "data": {
      "image/png": "[encoded data removed]",
      "text/plain": [
       "<Figure size 709.875x500 with 1 Axes>"
      ]
     },
     "metadata": {},
     "output_type": "display_data"
    }
   ],
   "source": [
    "colcomp2 = colcomp.drop(['endow_value', 'chronname'], axis=1)\n",
    "colcomp2.dropna(axis = 0, how = 'any', inplace = True)\n",
    "sns.displot(\n",
    "    data=colcomp2.isna().melt(value_name=\"blank\"),\n",
    "    y=\"variable\",\n",
    "    hue=\"blank\",\n",
    "    multiple=\"fill\",\n",
    "    aspect=1.25\n",
    ")"
   ]
  },
  {
   "cell_type": "code",
   "execution_count": 76,
   "metadata": {},
   "outputs": [
    {
     "data": {
      "text/plain": [
       "array([[-0.22508225],\n",
       "       [ 0.84412891],\n",
       "       [-1.82577264],\n",
       "       [ 0.89415049],\n",
       "       [-0.28135652],\n",
       "       [ 1.2693123 ],\n",
       "       [-1.50063241],\n",
       "       [-0.21882955],\n",
       "       [ 1.42562972],\n",
       "       [ 0.85663431]])"
      ]
     },
     "execution_count": 76,
     "metadata": {},
     "output_type": "execute_result"
    }
   ],
   "source": [
    "ret_standardizing = StandardScaler().fit_transform(colcomp2[['retain_value']])\n",
    "ret_standardizing[:10]"
   ]
  },
  {
   "cell_type": "code",
   "execution_count": 77,
   "metadata": {},
   "outputs": [
    {
     "data": {
      "text/plain": [
       "array([[0.631],\n",
       "       [0.802],\n",
       "       [0.375],\n",
       "       [0.81 ],\n",
       "       [0.622],\n",
       "       [0.87 ],\n",
       "       [0.427],\n",
       "       [0.632],\n",
       "       [0.895],\n",
       "       [0.804]])"
      ]
     },
     "execution_count": 77,
     "metadata": {},
     "output_type": "execute_result"
    }
   ],
   "source": [
    "ret_normalizing = MinMaxScaler().fit_transform(colcomp2[['retain_value']])\n",
    "ret_normalizing[:10]"
   ]
  },
  {
   "cell_type": "code",
   "execution_count": 78,
   "metadata": {},
   "outputs": [
    {
     "data": {
      "text/plain": [
       "<Axes: ylabel='Density'>"
      ]
     },
     "execution_count": 78,
     "metadata": {},
     "output_type": "execute_result"
    },
    {
     "data": {
      "image/png": "[encoded data removed]",
      "text/plain": [
       "<Figure size 640x480 with 1 Axes>"
      ]
     },
     "metadata": {},
     "output_type": "display_data"
    }
   ],
   "source": [
    "colcomp2.retain_value.plot.density()"
   ]
  },
  {
   "cell_type": "code",
   "execution_count": 79,
   "metadata": {},
   "outputs": [
    {
     "data": {
      "text/plain": [
       "<Axes: ylabel='Density'>"
      ]
     },
     "execution_count": 79,
     "metadata": {},
     "output_type": "execute_result"
    },
    {
     "data": {
      "image/png": "[encoded data removed]",
      "text/plain": [
       "<Figure size 640x480 with 1 Axes>"
      ]
     },
     "metadata": {},
     "output_type": "display_data"
    }
   ],
   "source": [
    "pd.DataFrame(ret_normalizing).plot.density()"
   ]
  },
  {
   "cell_type": "code",
   "execution_count": 80,
   "metadata": {},
   "outputs": [
    {
     "name": "stdout",
     "output_type": "stream",
     "text": [
      "<class 'pandas.core.frame.DataFrame'>\n",
      "Index: 3371 entries, 0 to 3796\n",
      "Data columns (total 16 columns):\n",
      " #   Column            Non-Null Count  Dtype   \n",
      "---  ------            --------------  -----   \n",
      " 0   level             3371 non-null   category\n",
      " 1   control           3371 non-null   category\n",
      " 2   basic             3371 non-null   category\n",
      " 3   hbcu              3371 non-null   category\n",
      " 4   flagship          3371 non-null   category\n",
      " 5   student_count     3371 non-null   float64 \n",
      " 6   awards_per_value  3371 non-null   float64 \n",
      " 7   exp_award_value   3371 non-null   float64 \n",
      " 8   ft_pct            3371 non-null   float64 \n",
      " 9   aid_value         3371 non-null   float64 \n",
      " 10  grad_100_value    3371 non-null   float64 \n",
      " 11  grad_150_value    3371 non-null   float64 \n",
      " 12  pell_value        3371 non-null   float64 \n",
      " 13  retain_value      3371 non-null   float64 \n",
      " 14  ft_fac_value      3371 non-null   float64 \n",
      " 15  cohort_size       3371 non-null   float64 \n",
      "dtypes: category(5), float64(11)\n",
      "memory usage: 334.3 KB\n"
     ]
    }
   ],
   "source": [
    "num_listing = list(colcomp2.select_dtypes('number')) #select function to find the numeric variables and create a list  \n",
    "\n",
    "colcomp2[num_listing] = MinMaxScaler().fit_transform(colcomp2[num_listing])\n",
    "colcomp2.info()"
   ]
  },
  {
   "cell_type": "code",
   "execution_count": 81,
   "metadata": {},
   "outputs": [
    {
     "data": {
      "text/html": [
       "<div>\n",
       "<style scoped>\n",
       "    .dataframe tbody tr th:only-of-type {\n",
       "        vertical-align: middle;\n",
       "    }\n",
       "\n",
       "    .dataframe tbody tr th {\n",
       "        vertical-align: top;\n",
       "    }\n",
       "\n",
       "    .dataframe thead th {\n",
       "        text-align: right;\n",
       "    }\n",
       "</style>\n",
       "<table border=\"1\" class=\"dataframe\">\n",
       "  <thead>\n",
       "    <tr style=\"text-align: right;\">\n",
       "      <th></th>\n",
       "      <th>student_count</th>\n",
       "      <th>awards_per_value</th>\n",
       "      <th>exp_award_value</th>\n",
       "      <th>ft_pct</th>\n",
       "      <th>aid_value</th>\n",
       "      <th>grad_100_value</th>\n",
       "      <th>grad_150_value</th>\n",
       "      <th>pell_value</th>\n",
       "      <th>retain_value</th>\n",
       "      <th>ft_fac_value</th>\n",
       "      <th>...</th>\n",
       "      <th>basic_Schools of art- music- and design</th>\n",
       "      <th>basic_Schools of business and management</th>\n",
       "      <th>basic_Schools of engineering</th>\n",
       "      <th>basic_Schools of law</th>\n",
       "      <th>basic_Theological seminaries- Bible colleges- and other faith-related institutions</th>\n",
       "      <th>basic_Tribal Colleges</th>\n",
       "      <th>hbcu_0</th>\n",
       "      <th>hbcu_1</th>\n",
       "      <th>flagship_0</th>\n",
       "      <th>flagship_1</th>\n",
       "    </tr>\n",
       "  </thead>\n",
       "  <tbody>\n",
       "    <tr>\n",
       "      <th>0</th>\n",
       "      <td>0.023677</td>\n",
       "      <td>0.104900</td>\n",
       "      <td>0.019941</td>\n",
       "      <td>0.935551</td>\n",
       "      <td>0.165867</td>\n",
       "      <td>0.100</td>\n",
       "      <td>0.291</td>\n",
       "      <td>0.712</td>\n",
       "      <td>0.631</td>\n",
       "      <td>0.828</td>\n",
       "      <td>...</td>\n",
       "      <td>False</td>\n",
       "      <td>False</td>\n",
       "      <td>False</td>\n",
       "      <td>False</td>\n",
       "      <td>False</td>\n",
       "      <td>False</td>\n",
       "      <td>False</td>\n",
       "      <td>True</td>\n",
       "      <td>True</td>\n",
       "      <td>False</td>\n",
       "    </tr>\n",
       "    <tr>\n",
       "      <th>1</th>\n",
       "      <td>0.067476</td>\n",
       "      <td>0.156202</td>\n",
       "      <td>0.025851</td>\n",
       "      <td>0.716216</td>\n",
       "      <td>0.140338</td>\n",
       "      <td>0.294</td>\n",
       "      <td>0.535</td>\n",
       "      <td>0.351</td>\n",
       "      <td>0.802</td>\n",
       "      <td>0.924</td>\n",
       "      <td>...</td>\n",
       "      <td>False</td>\n",
       "      <td>False</td>\n",
       "      <td>False</td>\n",
       "      <td>False</td>\n",
       "      <td>False</td>\n",
       "      <td>False</td>\n",
       "      <td>True</td>\n",
       "      <td>False</td>\n",
       "      <td>True</td>\n",
       "      <td>False</td>\n",
       "    </tr>\n",
       "    <tr>\n",
       "      <th>2</th>\n",
       "      <td>0.001758</td>\n",
       "      <td>0.225115</td>\n",
       "      <td>0.011059</td>\n",
       "      <td>0.612266</td>\n",
       "      <td>0.054401</td>\n",
       "      <td>0.000</td>\n",
       "      <td>0.667</td>\n",
       "      <td>0.684</td>\n",
       "      <td>0.375</td>\n",
       "      <td>0.672</td>\n",
       "      <td>...</td>\n",
       "      <td>False</td>\n",
       "      <td>False</td>\n",
       "      <td>False</td>\n",
       "      <td>False</td>\n",
       "      <td>False</td>\n",
       "      <td>False</td>\n",
       "      <td>True</td>\n",
       "      <td>False</td>\n",
       "      <td>True</td>\n",
       "      <td>False</td>\n",
       "    </tr>\n",
       "    <tr>\n",
       "      <th>3</th>\n",
       "      <td>0.033347</td>\n",
       "      <td>0.156202</td>\n",
       "      <td>0.012196</td>\n",
       "      <td>0.733888</td>\n",
       "      <td>0.153878</td>\n",
       "      <td>0.165</td>\n",
       "      <td>0.484</td>\n",
       "      <td>0.328</td>\n",
       "      <td>0.810</td>\n",
       "      <td>0.655</td>\n",
       "      <td>...</td>\n",
       "      <td>False</td>\n",
       "      <td>False</td>\n",
       "      <td>False</td>\n",
       "      <td>False</td>\n",
       "      <td>False</td>\n",
       "      <td>False</td>\n",
       "      <td>True</td>\n",
       "      <td>False</td>\n",
       "      <td>True</td>\n",
       "      <td>False</td>\n",
       "    </tr>\n",
       "    <tr>\n",
       "      <th>4</th>\n",
       "      <td>0.031348</td>\n",
       "      <td>0.084992</td>\n",
       "      <td>0.025067</td>\n",
       "      <td>0.906445</td>\n",
       "      <td>0.168629</td>\n",
       "      <td>0.088</td>\n",
       "      <td>0.252</td>\n",
       "      <td>0.827</td>\n",
       "      <td>0.622</td>\n",
       "      <td>0.670</td>\n",
       "      <td>...</td>\n",
       "      <td>False</td>\n",
       "      <td>False</td>\n",
       "      <td>False</td>\n",
       "      <td>False</td>\n",
       "      <td>False</td>\n",
       "      <td>False</td>\n",
       "      <td>False</td>\n",
       "      <td>True</td>\n",
       "      <td>True</td>\n",
       "      <td>False</td>\n",
       "    </tr>\n",
       "    <tr>\n",
       "      <th>...</th>\n",
       "      <td>...</td>\n",
       "      <td>...</td>\n",
       "      <td>...</td>\n",
       "      <td>...</td>\n",
       "      <td>...</td>\n",
       "      <td>...</td>\n",
       "      <td>...</td>\n",
       "      <td>...</td>\n",
       "      <td>...</td>\n",
       "      <td>...</td>\n",
       "      <td>...</td>\n",
       "      <td>...</td>\n",
       "      <td>...</td>\n",
       "      <td>...</td>\n",
       "      <td>...</td>\n",
       "      <td>...</td>\n",
       "      <td>...</td>\n",
       "      <td>...</td>\n",
       "      <td>...</td>\n",
       "      <td>...</td>\n",
       "      <td>...</td>\n",
       "    </tr>\n",
       "    <tr>\n",
       "      <th>3792</th>\n",
       "      <td>0.000488</td>\n",
       "      <td>0.054364</td>\n",
       "      <td>0.023993</td>\n",
       "      <td>0.588358</td>\n",
       "      <td>0.106961</td>\n",
       "      <td>0.000</td>\n",
       "      <td>0.000</td>\n",
       "      <td>0.744</td>\n",
       "      <td>0.333</td>\n",
       "      <td>0.286</td>\n",
       "      <td>...</td>\n",
       "      <td>False</td>\n",
       "      <td>False</td>\n",
       "      <td>False</td>\n",
       "      <td>False</td>\n",
       "      <td>False</td>\n",
       "      <td>True</td>\n",
       "      <td>True</td>\n",
       "      <td>False</td>\n",
       "      <td>True</td>\n",
       "      <td>False</td>\n",
       "    </tr>\n",
       "    <tr>\n",
       "      <th>3793</th>\n",
       "      <td>0.000511</td>\n",
       "      <td>0.196784</td>\n",
       "      <td>0.004553</td>\n",
       "      <td>0.319127</td>\n",
       "      <td>0.110594</td>\n",
       "      <td>0.000</td>\n",
       "      <td>0.000</td>\n",
       "      <td>0.263</td>\n",
       "      <td>0.333</td>\n",
       "      <td>0.107</td>\n",
       "      <td>...</td>\n",
       "      <td>False</td>\n",
       "      <td>False</td>\n",
       "      <td>False</td>\n",
       "      <td>False</td>\n",
       "      <td>False</td>\n",
       "      <td>False</td>\n",
       "      <td>True</td>\n",
       "      <td>False</td>\n",
       "      <td>True</td>\n",
       "      <td>False</td>\n",
       "    </tr>\n",
       "    <tr>\n",
       "      <th>3794</th>\n",
       "      <td>0.000688</td>\n",
       "      <td>0.123277</td>\n",
       "      <td>0.020061</td>\n",
       "      <td>0.917879</td>\n",
       "      <td>0.220438</td>\n",
       "      <td>0.515</td>\n",
       "      <td>0.515</td>\n",
       "      <td>0.283</td>\n",
       "      <td>0.744</td>\n",
       "      <td>0.444</td>\n",
       "      <td>...</td>\n",
       "      <td>False</td>\n",
       "      <td>False</td>\n",
       "      <td>False</td>\n",
       "      <td>False</td>\n",
       "      <td>False</td>\n",
       "      <td>False</td>\n",
       "      <td>True</td>\n",
       "      <td>False</td>\n",
       "      <td>True</td>\n",
       "      <td>False</td>\n",
       "    </tr>\n",
       "    <tr>\n",
       "      <th>3795</th>\n",
       "      <td>0.002733</td>\n",
       "      <td>0.418070</td>\n",
       "      <td>0.010022</td>\n",
       "      <td>0.553015</td>\n",
       "      <td>0.072591</td>\n",
       "      <td>0.375</td>\n",
       "      <td>0.375</td>\n",
       "      <td>0.531</td>\n",
       "      <td>0.778</td>\n",
       "      <td>0.296</td>\n",
       "      <td>...</td>\n",
       "      <td>False</td>\n",
       "      <td>False</td>\n",
       "      <td>False</td>\n",
       "      <td>False</td>\n",
       "      <td>False</td>\n",
       "      <td>False</td>\n",
       "      <td>True</td>\n",
       "      <td>False</td>\n",
       "      <td>True</td>\n",
       "      <td>False</td>\n",
       "    </tr>\n",
       "    <tr>\n",
       "      <th>3796</th>\n",
       "      <td>0.000729</td>\n",
       "      <td>0.247320</td>\n",
       "      <td>0.014172</td>\n",
       "      <td>0.689189</td>\n",
       "      <td>0.076055</td>\n",
       "      <td>0.421</td>\n",
       "      <td>0.559</td>\n",
       "      <td>0.408</td>\n",
       "      <td>0.789</td>\n",
       "      <td>0.423</td>\n",
       "      <td>...</td>\n",
       "      <td>False</td>\n",
       "      <td>False</td>\n",
       "      <td>False</td>\n",
       "      <td>False</td>\n",
       "      <td>False</td>\n",
       "      <td>False</td>\n",
       "      <td>True</td>\n",
       "      <td>False</td>\n",
       "      <td>True</td>\n",
       "      <td>False</td>\n",
       "    </tr>\n",
       "  </tbody>\n",
       "</table>\n",
       "<p>3371 rows × 53 columns</p>\n",
       "</div>"
      ],
      "text/plain": [
       "      student_count  awards_per_value  exp_award_value    ft_pct  aid_value  \\\n",
       "0          0.023677          0.104900         0.019941  0.935551   0.165867   \n",
       "1          0.067476          0.156202         0.025851  0.716216   0.140338   \n",
       "2          0.001758          0.225115         0.011059  0.612266   0.054401   \n",
       "3          0.033347          0.156202         0.012196  0.733888   0.153878   \n",
       "4          0.031348          0.084992         0.025067  0.906445   0.168629   \n",
       "...             ...               ...              ...       ...        ...   \n",
       "3792       0.000488          0.054364         0.023993  0.588358   0.106961   \n",
       "3793       0.000511          0.196784         0.004553  0.319127   0.110594   \n",
       "3794       0.000688          0.123277         0.020061  0.917879   0.220438   \n",
       "3795       0.002733          0.418070         0.010022  0.553015   0.072591   \n",
       "3796       0.000729          0.247320         0.014172  0.689189   0.076055   \n",
       "\n",
       "      grad_100_value  grad_150_value  pell_value  retain_value  ft_fac_value  \\\n",
       "0              0.100           0.291       0.712         0.631         0.828   \n",
       "1              0.294           0.535       0.351         0.802         0.924   \n",
       "2              0.000           0.667       0.684         0.375         0.672   \n",
       "3              0.165           0.484       0.328         0.810         0.655   \n",
       "4              0.088           0.252       0.827         0.622         0.670   \n",
       "...              ...             ...         ...           ...           ...   \n",
       "3792           0.000           0.000       0.744         0.333         0.286   \n",
       "3793           0.000           0.000       0.263         0.333         0.107   \n",
       "3794           0.515           0.515       0.283         0.744         0.444   \n",
       "3795           0.375           0.375       0.531         0.778         0.296   \n",
       "3796           0.421           0.559       0.408         0.789         0.423   \n",
       "\n",
       "      ...  basic_Schools of art- music- and design  \\\n",
       "0     ...                                    False   \n",
       "1     ...                                    False   \n",
       "2     ...                                    False   \n",
       "3     ...                                    False   \n",
       "4     ...                                    False   \n",
       "...   ...                                      ...   \n",
       "3792  ...                                    False   \n",
       "3793  ...                                    False   \n",
       "3794  ...                                    False   \n",
       "3795  ...                                    False   \n",
       "3796  ...                                    False   \n",
       "\n",
       "      basic_Schools of business and management  basic_Schools of engineering  \\\n",
       "0                                        False                         False   \n",
       "1                                        False                         False   \n",
       "2                                        False                         False   \n",
       "3                                        False                         False   \n",
       "4                                        False                         False   \n",
       "...                                        ...                           ...   \n",
       "3792                                     False                         False   \n",
       "3793                                     False                         False   \n",
       "3794                                     False                         False   \n",
       "3795                                     False                         False   \n",
       "3796                                     False                         False   \n",
       "\n",
       "      basic_Schools of law  \\\n",
       "0                    False   \n",
       "1                    False   \n",
       "2                    False   \n",
       "3                    False   \n",
       "4                    False   \n",
       "...                    ...   \n",
       "3792                 False   \n",
       "3793                 False   \n",
       "3794                 False   \n",
       "3795                 False   \n",
       "3796                 False   \n",
       "\n",
       "      basic_Theological seminaries- Bible colleges- and other faith-related institutions  \\\n",
       "0                                                 False                                    \n",
       "1                                                 False                                    \n",
       "2                                                 False                                    \n",
       "3                                                 False                                    \n",
       "4                                                 False                                    \n",
       "...                                                 ...                                    \n",
       "3792                                              False                                    \n",
       "3793                                              False                                    \n",
       "3794                                              False                                    \n",
       "3795                                              False                                    \n",
       "3796                                              False                                    \n",
       "\n",
       "      basic_Tribal Colleges  hbcu_0  hbcu_1  flagship_0  flagship_1  \n",
       "0                     False   False    True        True       False  \n",
       "1                     False    True   False        True       False  \n",
       "2                     False    True   False        True       False  \n",
       "3                     False    True   False        True       False  \n",
       "4                     False   False    True        True       False  \n",
       "...                     ...     ...     ...         ...         ...  \n",
       "3792                   True    True   False        True       False  \n",
       "3793                  False    True   False        True       False  \n",
       "3794                  False    True   False        True       False  \n",
       "3795                  False    True   False        True       False  \n",
       "3796                  False    True   False        True       False  \n",
       "\n",
       "[3371 rows x 53 columns]"
      ]
     },
     "execution_count": 81,
     "metadata": {},
     "output_type": "execute_result"
    }
   ],
   "source": [
    "category_list = list(colcomp2.select_dtypes('category'))\n",
    "ret_one_hot = pd.get_dummies(colcomp2, columns = category_list) \n",
    "ret_one_hot"
   ]
  },
  {
   "cell_type": "code",
   "execution_count": 82,
   "metadata": {},
   "outputs": [
    {
     "data": {
      "text/plain": [
       "count    3371.000000\n",
       "mean        0.666998\n",
       "std         0.159955\n",
       "min         0.000000\n",
       "25%         0.564000\n",
       "50%         0.671000\n",
       "75%         0.781000\n",
       "max         1.000000\n",
       "Name: retain_value, dtype: float64"
      ]
     },
     "execution_count": 82,
     "metadata": {},
     "output_type": "execute_result"
    },
    {
     "data": {
      "image/png": "[encoded data removed]",
      "text/plain": [
       "<Figure size 640x480 with 1 Axes>"
      ]
     },
     "metadata": {},
     "output_type": "display_data"
    }
   ],
   "source": [
    "ret_one_hot.boxplot(column= 'retain_value', vert= False, grid=False)\n",
    "ret_one_hot.retain_value.describe()"
   ]
  },
  {
   "cell_type": "code",
   "execution_count": 83,
   "metadata": {},
   "outputs": [
    {
     "data": {
      "text/plain": [
       "0.2491842183328389"
      ]
     },
     "execution_count": 83,
     "metadata": {},
     "output_type": "execute_result"
    }
   ],
   "source": [
    "ret_one_hot['retain_value_f'] = pd.cut(ret_one_hot.retain_value, bins = [-1,0.781,1], labels =[0,1])\n",
    "prevalence = ret_one_hot.retain_value_f.value_counts()[1]/len(ret_one_hot.retain_value_f)\n",
    "prevalence"
   ]
  },
  {
   "cell_type": "code",
   "execution_count": 85,
   "metadata": {},
   "outputs": [],
   "source": [
    "new_ret = ret_one_hot.drop(['retain_value'],axis=1)"
   ]
  },
  {
   "cell_type": "code",
   "execution_count": 86,
   "metadata": {},
   "outputs": [
    {
     "name": "stdout",
     "output_type": "stream",
     "text": [
      "(2696, 53)\n",
      "(675, 53)\n"
     ]
    }
   ],
   "source": [
    "Train, Test = train_test_split(new_ret,  train_size = .8, stratify = new_ret.retain_value_f)\n",
    "print(Train.shape)\n",
    "print(Test.shape) "
   ]
  },
  {
   "cell_type": "code",
   "execution_count": 87,
   "metadata": {},
   "outputs": [
    {
     "name": "stdout",
     "output_type": "stream",
     "text": [
      "retain_value_f\n",
      "0    2024\n",
      "1     672\n",
      "Name: count, dtype: int64\n",
      "0.24925816023738873\n"
     ]
    }
   ],
   "source": [
    "Tune, Test = train_test_split(Test,  train_size = .5, stratify= Test.retain_value_f)\n",
    "print(Train.retain_value_f.value_counts())\n",
    "print(672/(672+2024))"
   ]
  },
  {
   "cell_type": "code",
   "execution_count": 88,
   "metadata": {},
   "outputs": [
    {
     "name": "stdout",
     "output_type": "stream",
     "text": [
      "retain_value_f\n",
      "0    253\n",
      "1     84\n",
      "Name: count, dtype: int64\n",
      "0.2490118577075099\n"
     ]
    }
   ],
   "source": [
    "print(Tune.retain_value_f.value_counts())\n",
    "print(126/(380+126))"
   ]
  },
  {
   "cell_type": "code",
   "execution_count": 89,
   "metadata": {},
   "outputs": [
    {
     "name": "stdout",
     "output_type": "stream",
     "text": [
      "retain_value_f\n",
      "0    254\n",
      "1     84\n",
      "Name: count, dtype: int64\n",
      "0.24909529553679133\n"
     ]
    }
   ],
   "source": [
    "print(Test.retain_value_f.value_counts())\n",
    "print(413/(413+1245))"
   ]
  },
  {
   "cell_type": "markdown",
   "metadata": {},
   "source": [
    "## Phase 3: Building kNN Model for Student Retainment\n"
   ]
  },
  {
   "cell_type": "code",
   "execution_count": 90,
   "metadata": {},
   "outputs": [
    {
     "data": {
      "text/plain": [
       "0.2491842183328389"
      ]
     },
     "execution_count": 90,
     "metadata": {},
     "output_type": "execute_result"
    }
   ],
   "source": [
    "prevalence = ret_one_hot.retain_value_f.value_counts()[1]/len(ret_one_hot.retain_value_f)\n",
    "prevalence"
   ]
  },
  {
   "cell_type": "code",
   "execution_count": 91,
   "metadata": {},
   "outputs": [],
   "source": [
    "train, test = train_test_split(ret_one_hot,  test_size=0.4, stratify = ret_one_hot['retain_value_f'])\n",
    "test, val = train_test_split(test, test_size=0.5, stratify= test['retain_value_f']) "
   ]
  },
  {
   "cell_type": "code",
   "execution_count": 92,
   "metadata": {},
   "outputs": [
    {
     "data": {
      "text/html": [
       "<style>#sk-container-id-1 {color: black;}#sk-container-id-1 pre{padding: 0;}#sk-container-id-1 div.sk-toggleable {background-color: white;}#sk-container-id-1 label.sk-toggleable__label {cursor: pointer;display: block;width: 100%;margin-bottom: 0;padding: 0.3em;box-sizing: border-box;text-align: center;}#sk-container-id-1 label.sk-toggleable__label-arrow:before {content: \"▸\";float: left;margin-right: 0.25em;color: #696969;}#sk-container-id-1 label.sk-toggleable__label-arrow:hover:before {color: black;}#sk-container-id-1 div.sk-estimator:hover label.sk-toggleable__label-arrow:before {color: black;}#sk-container-id-1 div.sk-toggleable__content {max-height: 0;max-width: 0;overflow: hidden;text-align: left;background-color: #f0f8ff;}#sk-container-id-1 div.sk-toggleable__content pre {margin: 0.2em;color: black;border-radius: 0.25em;background-color: #f0f8ff;}#sk-container-id-1 input.sk-toggleable__control:checked~div.sk-toggleable__content {max-height: 200px;max-width: 100%;overflow: auto;}#sk-container-id-1 input.sk-toggleable__control:checked~label.sk-toggleable__label-arrow:before {content: \"▾\";}#sk-container-id-1 div.sk-estimator input.sk-toggleable__control:checked~label.sk-toggleable__label {background-color: #d4ebff;}#sk-container-id-1 div.sk-label input.sk-toggleable__control:checked~label.sk-toggleable__label {background-color: #d4ebff;}#sk-container-id-1 input.sk-hidden--visually {border: 0;clip: rect(1px 1px 1px 1px);clip: rect(1px, 1px, 1px, 1px);height: 1px;margin: -1px;overflow: hidden;padding: 0;position: absolute;width: 1px;}#sk-container-id-1 div.sk-estimator {font-family: monospace;background-color: #f0f8ff;border: 1px dotted black;border-radius: 0.25em;box-sizing: border-box;margin-bottom: 0.5em;}#sk-container-id-1 div.sk-estimator:hover {background-color: #d4ebff;}#sk-container-id-1 div.sk-parallel-item::after {content: \"\";width: 100%;border-bottom: 1px solid gray;flex-grow: 1;}#sk-container-id-1 div.sk-label:hover label.sk-toggleable__label {background-color: #d4ebff;}#sk-container-id-1 div.sk-serial::before {content: \"\";position: absolute;border-left: 1px solid gray;box-sizing: border-box;top: 0;bottom: 0;left: 50%;z-index: 0;}#sk-container-id-1 div.sk-serial {display: flex;flex-direction: column;align-items: center;background-color: white;padding-right: 0.2em;padding-left: 0.2em;position: relative;}#sk-container-id-1 div.sk-item {position: relative;z-index: 1;}#sk-container-id-1 div.sk-parallel {display: flex;align-items: stretch;justify-content: center;background-color: white;position: relative;}#sk-container-id-1 div.sk-item::before, #sk-container-id-1 div.sk-parallel-item::before {content: \"\";position: absolute;border-left: 1px solid gray;box-sizing: border-box;top: 0;bottom: 0;left: 50%;z-index: -1;}#sk-container-id-1 div.sk-parallel-item {display: flex;flex-direction: column;z-index: 1;position: relative;background-color: white;}#sk-container-id-1 div.sk-parallel-item:first-child::after {align-self: flex-end;width: 50%;}#sk-container-id-1 div.sk-parallel-item:last-child::after {align-self: flex-start;width: 50%;}#sk-container-id-1 div.sk-parallel-item:only-child::after {width: 0;}#sk-container-id-1 div.sk-dashed-wrapped {border: 1px dashed gray;margin: 0 0.4em 0.5em 0.4em;box-sizing: border-box;padding-bottom: 0.4em;background-color: white;}#sk-container-id-1 div.sk-label label {font-family: monospace;font-weight: bold;display: inline-block;line-height: 1.2em;}#sk-container-id-1 div.sk-label-container {text-align: center;}#sk-container-id-1 div.sk-container {/* jupyter's `normalize.less` sets `[hidden] { display: none; }` but bootstrap.min.css set `[hidden] { display: none !important; }` so we also need the `!important` here to be able to override the default hidden behavior on the sphinx rendered scikit-learn.org. See: https://github.com/scikit-learn/scikit-learn/issues/21755 */display: inline-block !important;position: relative;}#sk-container-id-1 div.sk-text-repr-fallback {display: none;}</style><div id=\"sk-container-id-1\" class=\"sk-top-container\"><div class=\"sk-text-repr-fallback\"><pre>KNeighborsClassifier(n_neighbors=9)</pre><b>In a Jupyter environment, please rerun this cell to show the HTML representation or trust the notebook. <br />On GitHub, the HTML representation is unable to render, please try loading this page with nbviewer.org.</b></div><div class=\"sk-container\" hidden><div class=\"sk-item\"><div class=\"sk-estimator sk-toggleable\"><input class=\"sk-toggleable__control sk-hidden--visually\" id=\"sk-estimator-id-1\" type=\"checkbox\" checked><label for=\"sk-estimator-id-1\" class=\"sk-toggleable__label sk-toggleable__label-arrow\">KNeighborsClassifier</label><div class=\"sk-toggleable__content\"><pre>KNeighborsClassifier(n_neighbors=9)</pre></div></div></div></div></div>"
      ],
      "text/plain": [
       "KNeighborsClassifier(n_neighbors=9)"
      ]
     },
     "execution_count": 92,
     "metadata": {},
     "output_type": "execute_result"
    }
   ],
   "source": [
    "import random\n",
    "random.seed(1984)   # kNN is a random algorithm, so we use `random.seed(x)` to make results repeatable\n",
    "\n",
    "X_train = train.drop(['retain_value_f'], axis=1).values\n",
    "y_train = train['retain_value_f'].values\n",
    "\n",
    "neighb = KNeighborsClassifier(n_neighbors=9)\n",
    "neighb.fit(X_train, y_train)"
   ]
  },
  {
   "cell_type": "code",
   "execution_count": 93,
   "metadata": {},
   "outputs": [
    {
     "data": {
      "text/plain": [
       "0.8694362017804155"
      ]
     },
     "execution_count": 93,
     "metadata": {},
     "output_type": "execute_result"
    }
   ],
   "source": [
    "X_test = test.drop(['retain_value_f'], axis=1).values\n",
    "y_test = test['retain_value_f'].values\n",
    "\n",
    "neighb.score(X_test, y_test)"
   ]
  },
  {
   "cell_type": "code",
   "execution_count": 94,
   "metadata": {},
   "outputs": [
    {
     "data": {
      "text/plain": [
       "0.8859259259259259"
      ]
     },
     "execution_count": 94,
     "metadata": {},
     "output_type": "execute_result"
    }
   ],
   "source": [
    "X_val = val.drop(['retain_value_f'], axis=1).values\n",
    "y_val = val['retain_value_f'].values\n",
    "\n",
    "neighb.score(X_val, y_val)"
   ]
  },
  {
   "cell_type": "code",
   "execution_count": 98,
   "metadata": {},
   "outputs": [
    {
     "data": {
      "image/png": "[encoded data removed]",
      "text/plain": [
       "<Figure size 640x480 with 2 Axes>"
      ]
     },
     "metadata": {},
     "output_type": "display_data"
    }
   ],
   "source": [
    "from sklearn.metrics import ConfusionMatrixDisplay\n",
    "ConfusionMatrixDisplay.from_estimator(neighb, X_val, y_val, cmap = 'Blues') \n",
    "plt.show()"
   ]
  },
  {
   "cell_type": "markdown",
   "metadata": {},
   "source": [
    "Our default threshold confusion matrix shows satisfactory performance. True negatives are accurately identified, with only a minor number of errors in false positives. However, the prediction of true positives and false negatives is suboptimal. This presents an issue as we aim to identify students at risk of not retaining information for timely intervention and support. Currently, our predictive accuracy in this regard is inadequate. Adjusting the threshold to minimize false negatives is crucial to enhancing our ability to identify students who may struggle with retention."
   ]
  },
  {
   "cell_type": "code",
   "execution_count": 99,
   "metadata": {},
   "outputs": [
    {
     "name": "stdout",
     "output_type": "stream",
     "text": [
      "              precision    recall  f1-score   support\n",
      "\n",
      "           0       0.96      0.89      0.93       548\n",
      "           1       0.65      0.86      0.74       127\n",
      "\n",
      "    accuracy                           0.89       675\n",
      "   macro avg       0.81      0.88      0.83       675\n",
      "weighted avg       0.91      0.89      0.89       675\n",
      "\n"
     ]
    }
   ],
   "source": [
    "from sklearn.metrics import classification_report\n",
    "\n",
    "y_val_pred = neighb.predict(X_val)\n",
    "print(classification_report(y_val_pred, y_val))"
   ]
  },
  {
   "cell_type": "code",
   "execution_count": 100,
   "metadata": {},
   "outputs": [
    {
     "name": "stdout",
     "output_type": "stream",
     "text": [
      "0.6488095238095238 0.9566074950690335\n"
     ]
    }
   ],
   "source": [
    "sensitivity = 109/(109+59)   # = TP/(TP+FN)\n",
    "specificity = 485/(485+22)   # = TN/(TN+FP)\n",
    "print(sensitivity, specificity)"
   ]
  },
  {
   "cell_type": "code",
   "execution_count": 101,
   "metadata": {},
   "outputs": [],
   "source": [
    "def chooseK(k, X_train, y_train, X_test, y_test):\n",
    "    random.seed(1)\n",
    "    print(\"calculating... \", k, \"k\")    # I'll include this so you can see the progress of the function as it runs\n",
    "    class_knn = KNeighborsClassifier(n_neighbors=k)\n",
    "    class_knn.fit(X_train, y_train)\n",
    "    \n",
    "    # calculate accuracy\n",
    "    accuracy = class_knn.score(X_test, y_test)\n",
    "    return accuracy"
   ]
  },
  {
   "cell_type": "code",
   "execution_count": 102,
   "metadata": {},
   "outputs": [
    {
     "name": "stdout",
     "output_type": "stream",
     "text": [
      "calculating...  1 k\n",
      "calculating...  3 k\n",
      "calculating...  5 k\n",
      "calculating...  7 k\n",
      "calculating...  9 k\n",
      "calculating...  11 k\n",
      "calculating...  13 k\n",
      "calculating...  15 k\n",
      "calculating...  17 k\n",
      "calculating...  19 k\n",
      "calculating...  21 k\n"
     ]
    }
   ],
   "source": [
    "test = pd.DataFrame({'k':list(range(1,22,2)), \n",
    "                     'accuracy':[chooseK(x, X_train, y_train, X_test, y_test) for x in list(range(1, 22, 2))]})"
   ]
  },
  {
   "cell_type": "code",
   "execution_count": 103,
   "metadata": {},
   "outputs": [
    {
     "data": {
      "text/html": [
       "<div>\n",
       "<style scoped>\n",
       "    .dataframe tbody tr th:only-of-type {\n",
       "        vertical-align: middle;\n",
       "    }\n",
       "\n",
       "    .dataframe tbody tr th {\n",
       "        vertical-align: top;\n",
       "    }\n",
       "\n",
       "    .dataframe thead th {\n",
       "        text-align: right;\n",
       "    }\n",
       "</style>\n",
       "<table border=\"1\" class=\"dataframe\">\n",
       "  <thead>\n",
       "    <tr style=\"text-align: right;\">\n",
       "      <th></th>\n",
       "      <th>k</th>\n",
       "      <th>accuracy</th>\n",
       "    </tr>\n",
       "  </thead>\n",
       "  <tbody>\n",
       "    <tr>\n",
       "      <th>0</th>\n",
       "      <td>1</td>\n",
       "      <td>0.888724</td>\n",
       "    </tr>\n",
       "    <tr>\n",
       "      <th>1</th>\n",
       "      <td>3</td>\n",
       "      <td>0.870920</td>\n",
       "    </tr>\n",
       "    <tr>\n",
       "      <th>2</th>\n",
       "      <td>5</td>\n",
       "      <td>0.875371</td>\n",
       "    </tr>\n",
       "    <tr>\n",
       "      <th>3</th>\n",
       "      <td>7</td>\n",
       "      <td>0.872404</td>\n",
       "    </tr>\n",
       "    <tr>\n",
       "      <th>4</th>\n",
       "      <td>9</td>\n",
       "      <td>0.869436</td>\n",
       "    </tr>\n",
       "    <tr>\n",
       "      <th>5</th>\n",
       "      <td>11</td>\n",
       "      <td>0.857567</td>\n",
       "    </tr>\n",
       "    <tr>\n",
       "      <th>6</th>\n",
       "      <td>13</td>\n",
       "      <td>0.859050</td>\n",
       "    </tr>\n",
       "    <tr>\n",
       "      <th>7</th>\n",
       "      <td>15</td>\n",
       "      <td>0.859050</td>\n",
       "    </tr>\n",
       "    <tr>\n",
       "      <th>8</th>\n",
       "      <td>17</td>\n",
       "      <td>0.851632</td>\n",
       "    </tr>\n",
       "    <tr>\n",
       "      <th>9</th>\n",
       "      <td>19</td>\n",
       "      <td>0.853116</td>\n",
       "    </tr>\n",
       "    <tr>\n",
       "      <th>10</th>\n",
       "      <td>21</td>\n",
       "      <td>0.851632</td>\n",
       "    </tr>\n",
       "  </tbody>\n",
       "</table>\n",
       "</div>"
      ],
      "text/plain": [
       "     k  accuracy\n",
       "0    1  0.888724\n",
       "1    3  0.870920\n",
       "2    5  0.875371\n",
       "3    7  0.872404\n",
       "4    9  0.869436\n",
       "5   11  0.857567\n",
       "6   13  0.859050\n",
       "7   15  0.859050\n",
       "8   17  0.851632\n",
       "9   19  0.853116\n",
       "10  21  0.851632"
      ]
     },
     "execution_count": 103,
     "metadata": {},
     "output_type": "execute_result"
    }
   ],
   "source": [
    "test"
   ]
  },
  {
   "cell_type": "code",
   "execution_count": 104,
   "metadata": {},
   "outputs": [
    {
     "data": {
      "text/html": [
       "<div>\n",
       "<style scoped>\n",
       "    .dataframe tbody tr th:only-of-type {\n",
       "        vertical-align: middle;\n",
       "    }\n",
       "\n",
       "    .dataframe tbody tr th {\n",
       "        vertical-align: top;\n",
       "    }\n",
       "\n",
       "    .dataframe thead th {\n",
       "        text-align: right;\n",
       "    }\n",
       "</style>\n",
       "<table border=\"1\" class=\"dataframe\">\n",
       "  <thead>\n",
       "    <tr style=\"text-align: right;\">\n",
       "      <th></th>\n",
       "      <th>k</th>\n",
       "      <th>accuracy</th>\n",
       "    </tr>\n",
       "  </thead>\n",
       "  <tbody>\n",
       "    <tr>\n",
       "      <th>0</th>\n",
       "      <td>1</td>\n",
       "      <td>0.888724</td>\n",
       "    </tr>\n",
       "    <tr>\n",
       "      <th>2</th>\n",
       "      <td>5</td>\n",
       "      <td>0.875371</td>\n",
       "    </tr>\n",
       "    <tr>\n",
       "      <th>3</th>\n",
       "      <td>7</td>\n",
       "      <td>0.872404</td>\n",
       "    </tr>\n",
       "    <tr>\n",
       "      <th>1</th>\n",
       "      <td>3</td>\n",
       "      <td>0.870920</td>\n",
       "    </tr>\n",
       "    <tr>\n",
       "      <th>4</th>\n",
       "      <td>9</td>\n",
       "      <td>0.869436</td>\n",
       "    </tr>\n",
       "    <tr>\n",
       "      <th>6</th>\n",
       "      <td>13</td>\n",
       "      <td>0.859050</td>\n",
       "    </tr>\n",
       "    <tr>\n",
       "      <th>7</th>\n",
       "      <td>15</td>\n",
       "      <td>0.859050</td>\n",
       "    </tr>\n",
       "    <tr>\n",
       "      <th>5</th>\n",
       "      <td>11</td>\n",
       "      <td>0.857567</td>\n",
       "    </tr>\n",
       "    <tr>\n",
       "      <th>9</th>\n",
       "      <td>19</td>\n",
       "      <td>0.853116</td>\n",
       "    </tr>\n",
       "    <tr>\n",
       "      <th>8</th>\n",
       "      <td>17</td>\n",
       "      <td>0.851632</td>\n",
       "    </tr>\n",
       "    <tr>\n",
       "      <th>10</th>\n",
       "      <td>21</td>\n",
       "      <td>0.851632</td>\n",
       "    </tr>\n",
       "  </tbody>\n",
       "</table>\n",
       "</div>"
      ],
      "text/plain": [
       "     k  accuracy\n",
       "0    1  0.888724\n",
       "2    5  0.875371\n",
       "3    7  0.872404\n",
       "1    3  0.870920\n",
       "4    9  0.869436\n",
       "6   13  0.859050\n",
       "7   15  0.859050\n",
       "5   11  0.857567\n",
       "9   19  0.853116\n",
       "8   17  0.851632\n",
       "10  21  0.851632"
      ]
     },
     "execution_count": 104,
     "metadata": {},
     "output_type": "execute_result"
    }
   ],
   "source": [
    "test = test.sort_values(by=['accuracy'], ascending=False)\n",
    "test"
   ]
  },
  {
   "cell_type": "markdown",
   "metadata": {},
   "source": [
    "1 might be our ideal number for k but that isn't good because that means it severely overfits"
   ]
  },
  {
   "cell_type": "code",
   "execution_count": 105,
   "metadata": {},
   "outputs": [
    {
     "data": {
      "image/png": "[encoded data removed]",
      "text/plain": [
       "<Figure size 640x480 with 1 Axes>"
      ]
     },
     "metadata": {},
     "output_type": "display_data"
    }
   ],
   "source": [
    "plt.plot(test['k'], test['accuracy'])\n",
    "plt.xlabel('k')\n",
    "plt.ylabel('Accuracy')\n",
    "plt.title('Model Accuracy')\n",
    "plt.show()"
   ]
  },
  {
   "cell_type": "code",
   "execution_count": 106,
   "metadata": {},
   "outputs": [],
   "source": [
    "test_probs = neighb.predict_proba(X_test)\n",
    "test_preds = neighb.predict(X_test)"
   ]
  },
  {
   "cell_type": "code",
   "execution_count": 107,
   "metadata": {},
   "outputs": [
    {
     "data": {
      "text/html": [
       "<div>\n",
       "<style scoped>\n",
       "    .dataframe tbody tr th:only-of-type {\n",
       "        vertical-align: middle;\n",
       "    }\n",
       "\n",
       "    .dataframe tbody tr th {\n",
       "        vertical-align: top;\n",
       "    }\n",
       "\n",
       "    .dataframe thead th {\n",
       "        text-align: right;\n",
       "    }\n",
       "</style>\n",
       "<table border=\"1\" class=\"dataframe\">\n",
       "  <thead>\n",
       "    <tr style=\"text-align: right;\">\n",
       "      <th></th>\n",
       "      <th>not_retained_prob</th>\n",
       "      <th>retained_prob</th>\n",
       "    </tr>\n",
       "  </thead>\n",
       "  <tbody>\n",
       "    <tr>\n",
       "      <th>0</th>\n",
       "      <td>1.000000</td>\n",
       "      <td>0.000000</td>\n",
       "    </tr>\n",
       "    <tr>\n",
       "      <th>1</th>\n",
       "      <td>0.111111</td>\n",
       "      <td>0.888889</td>\n",
       "    </tr>\n",
       "    <tr>\n",
       "      <th>2</th>\n",
       "      <td>1.000000</td>\n",
       "      <td>0.000000</td>\n",
       "    </tr>\n",
       "    <tr>\n",
       "      <th>3</th>\n",
       "      <td>1.000000</td>\n",
       "      <td>0.000000</td>\n",
       "    </tr>\n",
       "    <tr>\n",
       "      <th>4</th>\n",
       "      <td>1.000000</td>\n",
       "      <td>0.000000</td>\n",
       "    </tr>\n",
       "    <tr>\n",
       "      <th>...</th>\n",
       "      <td>...</td>\n",
       "      <td>...</td>\n",
       "    </tr>\n",
       "    <tr>\n",
       "      <th>669</th>\n",
       "      <td>0.000000</td>\n",
       "      <td>1.000000</td>\n",
       "    </tr>\n",
       "    <tr>\n",
       "      <th>670</th>\n",
       "      <td>0.777778</td>\n",
       "      <td>0.222222</td>\n",
       "    </tr>\n",
       "    <tr>\n",
       "      <th>671</th>\n",
       "      <td>1.000000</td>\n",
       "      <td>0.000000</td>\n",
       "    </tr>\n",
       "    <tr>\n",
       "      <th>672</th>\n",
       "      <td>1.000000</td>\n",
       "      <td>0.000000</td>\n",
       "    </tr>\n",
       "    <tr>\n",
       "      <th>673</th>\n",
       "      <td>0.777778</td>\n",
       "      <td>0.222222</td>\n",
       "    </tr>\n",
       "  </tbody>\n",
       "</table>\n",
       "<p>674 rows × 2 columns</p>\n",
       "</div>"
      ],
      "text/plain": [
       "     not_retained_prob  retained_prob\n",
       "0             1.000000       0.000000\n",
       "1             0.111111       0.888889\n",
       "2             1.000000       0.000000\n",
       "3             1.000000       0.000000\n",
       "4             1.000000       0.000000\n",
       "..                 ...            ...\n",
       "669           0.000000       1.000000\n",
       "670           0.777778       0.222222\n",
       "671           1.000000       0.000000\n",
       "672           1.000000       0.000000\n",
       "673           0.777778       0.222222\n",
       "\n",
       "[674 rows x 2 columns]"
      ]
     },
     "execution_count": 107,
     "metadata": {},
     "output_type": "execute_result"
    }
   ],
   "source": [
    "test_probs = pd.DataFrame(test_probs, columns = ['not_retained_prob', 'retained_prob'])\n",
    "test_probs"
   ]
  },
  {
   "cell_type": "code",
   "execution_count": 108,
   "metadata": {},
   "outputs": [],
   "source": [
    "finalmodel = pd.DataFrame({'actual_class': y_test.tolist(),\n",
    "                           'pred_class': test_preds.tolist(),\n",
    "                           'pred_prob': [test_probs['retained_prob'][i] if test_preds[i]==1 else test_probs['not_retained_prob'][i] for i in range(len(test_preds))]})"
   ]
  },
  {
   "cell_type": "code",
   "execution_count": 109,
   "metadata": {},
   "outputs": [
    {
     "data": {
      "text/html": [
       "<div>\n",
       "<style scoped>\n",
       "    .dataframe tbody tr th:only-of-type {\n",
       "        vertical-align: middle;\n",
       "    }\n",
       "\n",
       "    .dataframe tbody tr th {\n",
       "        vertical-align: top;\n",
       "    }\n",
       "\n",
       "    .dataframe thead th {\n",
       "        text-align: right;\n",
       "    }\n",
       "</style>\n",
       "<table border=\"1\" class=\"dataframe\">\n",
       "  <thead>\n",
       "    <tr style=\"text-align: right;\">\n",
       "      <th></th>\n",
       "      <th>actual_class</th>\n",
       "      <th>pred_class</th>\n",
       "      <th>pred_prob</th>\n",
       "    </tr>\n",
       "  </thead>\n",
       "  <tbody>\n",
       "    <tr>\n",
       "      <th>0</th>\n",
       "      <td>0</td>\n",
       "      <td>0</td>\n",
       "      <td>1.000000</td>\n",
       "    </tr>\n",
       "    <tr>\n",
       "      <th>1</th>\n",
       "      <td>0</td>\n",
       "      <td>1</td>\n",
       "      <td>0.888889</td>\n",
       "    </tr>\n",
       "    <tr>\n",
       "      <th>2</th>\n",
       "      <td>0</td>\n",
       "      <td>0</td>\n",
       "      <td>1.000000</td>\n",
       "    </tr>\n",
       "    <tr>\n",
       "      <th>3</th>\n",
       "      <td>0</td>\n",
       "      <td>0</td>\n",
       "      <td>1.000000</td>\n",
       "    </tr>\n",
       "    <tr>\n",
       "      <th>4</th>\n",
       "      <td>0</td>\n",
       "      <td>0</td>\n",
       "      <td>1.000000</td>\n",
       "    </tr>\n",
       "  </tbody>\n",
       "</table>\n",
       "</div>"
      ],
      "text/plain": [
       "   actual_class  pred_class  pred_prob\n",
       "0             0           0   1.000000\n",
       "1             0           1   0.888889\n",
       "2             0           0   1.000000\n",
       "3             0           0   1.000000\n",
       "4             0           0   1.000000"
      ]
     },
     "execution_count": 109,
     "metadata": {},
     "output_type": "execute_result"
    }
   ],
   "source": [
    "finalmodel.head()"
   ]
  },
  {
   "cell_type": "code",
   "execution_count": 110,
   "metadata": {},
   "outputs": [],
   "source": [
    "finalmodel['pos_pred'] = [finalmodel.pred_prob[i] if finalmodel.pred_class[i]==1 else 1-finalmodel.pred_prob[i] for i in range(len(finalmodel.pred_class))]"
   ]
  },
  {
   "cell_type": "code",
   "execution_count": 111,
   "metadata": {},
   "outputs": [
    {
     "data": {
      "text/html": [
       "<div>\n",
       "<style scoped>\n",
       "    .dataframe tbody tr th:only-of-type {\n",
       "        vertical-align: middle;\n",
       "    }\n",
       "\n",
       "    .dataframe tbody tr th {\n",
       "        vertical-align: top;\n",
       "    }\n",
       "\n",
       "    .dataframe thead th {\n",
       "        text-align: right;\n",
       "    }\n",
       "</style>\n",
       "<table border=\"1\" class=\"dataframe\">\n",
       "  <thead>\n",
       "    <tr style=\"text-align: right;\">\n",
       "      <th></th>\n",
       "      <th>actual_class</th>\n",
       "      <th>pred_class</th>\n",
       "      <th>pred_prob</th>\n",
       "      <th>pos_pred</th>\n",
       "    </tr>\n",
       "  </thead>\n",
       "  <tbody>\n",
       "    <tr>\n",
       "      <th>0</th>\n",
       "      <td>0</td>\n",
       "      <td>0</td>\n",
       "      <td>1.000000</td>\n",
       "      <td>0.000000</td>\n",
       "    </tr>\n",
       "    <tr>\n",
       "      <th>1</th>\n",
       "      <td>0</td>\n",
       "      <td>1</td>\n",
       "      <td>0.888889</td>\n",
       "      <td>0.888889</td>\n",
       "    </tr>\n",
       "    <tr>\n",
       "      <th>2</th>\n",
       "      <td>0</td>\n",
       "      <td>0</td>\n",
       "      <td>1.000000</td>\n",
       "      <td>0.000000</td>\n",
       "    </tr>\n",
       "    <tr>\n",
       "      <th>3</th>\n",
       "      <td>0</td>\n",
       "      <td>0</td>\n",
       "      <td>1.000000</td>\n",
       "      <td>0.000000</td>\n",
       "    </tr>\n",
       "    <tr>\n",
       "      <th>4</th>\n",
       "      <td>0</td>\n",
       "      <td>0</td>\n",
       "      <td>1.000000</td>\n",
       "      <td>0.000000</td>\n",
       "    </tr>\n",
       "  </tbody>\n",
       "</table>\n",
       "</div>"
      ],
      "text/plain": [
       "   actual_class  pred_class  pred_prob  pos_pred\n",
       "0             0           0   1.000000  0.000000\n",
       "1             0           1   0.888889  0.888889\n",
       "2             0           0   1.000000  0.000000\n",
       "3             0           0   1.000000  0.000000\n",
       "4             0           0   1.000000  0.000000"
      ]
     },
     "execution_count": 111,
     "metadata": {},
     "output_type": "execute_result"
    }
   ],
   "source": [
    "finalmodel.head()"
   ]
  },
  {
   "cell_type": "code",
   "execution_count": 112,
   "metadata": {},
   "outputs": [],
   "source": [
    "finalmodel.actual_class = finalmodel.actual_class.astype('category')\n",
    "finalmodel.pred_class = finalmodel.pred_class.astype('category')"
   ]
  },
  {
   "cell_type": "code",
   "execution_count": 113,
   "metadata": {},
   "outputs": [
    {
     "name": "stderr",
     "output_type": "stream",
     "text": [
      "c:\\Users\\Student\\miniconda3\\Lib\\site-packages\\seaborn\\axisgrid.py:118: UserWarning: The figure layout has changed to tight\n",
      "  self._figure.tight_layout(*args, **kwargs)\n"
     ]
    },
    {
     "data": {
      "text/plain": [
       "<seaborn.axisgrid.FacetGrid at 0x1f88b5dbdd0>"
      ]
     },
     "execution_count": 113,
     "metadata": {},
     "output_type": "execute_result"
    },
    {
     "data": {
      "image/png": "[encoded data removed]",
      "text/plain": [
       "<Figure size 500x500 with 1 Axes>"
      ]
     },
     "metadata": {},
     "output_type": "display_data"
    }
   ],
   "source": [
    "import seaborn as sns\n",
    "\n",
    "sns.displot(finalmodel, x=\"pos_pred\", kind=\"kde\")"
   ]
  },
  {
   "cell_type": "code",
   "execution_count": 114,
   "metadata": {},
   "outputs": [
    {
     "data": {
      "text/plain": [
       "pos_pred\n",
       "0.000000    321\n",
       "0.111111     90\n",
       "0.222222     79\n",
       "1.000000     53\n",
       "0.555556     31\n",
       "0.333333     30\n",
       "0.444444     24\n",
       "0.666667     21\n",
       "0.888889     14\n",
       "0.777778     11\n",
       "Name: count, dtype: int64"
      ]
     },
     "execution_count": 114,
     "metadata": {},
     "output_type": "execute_result"
    }
   ],
   "source": [
    "finalmodel.pos_pred.value_counts()"
   ]
  },
  {
   "cell_type": "code",
   "execution_count": 116,
   "metadata": {},
   "outputs": [],
   "source": [
    "from sklearn.metrics import confusion_matrix\n",
    "\n",
    "def adjust_thresh(x, y, z):\n",
    "    \"\"\"\n",
    "    x=pred_probabilities\n",
    "    y=threshold\n",
    "    z=tune_outcome\n",
    "    \"\"\"\n",
    "    thresh = pd.DataFrame({'new_preds': [1 if i > y else 0 for i in x]})\n",
    "    thresh.new_preds = thresh.new_preds.astype('category')\n",
    "    con_mat = confusion_matrix(z, thresh)  \n",
    "    print(con_mat)"
   ]
  },
  {
   "cell_type": "code",
   "execution_count": 117,
   "metadata": {},
   "outputs": [
    {
     "data": {
      "text/plain": [
       "array([[481,  25],\n",
       "       [ 63, 105]], dtype=int64)"
      ]
     },
     "execution_count": 117,
     "metadata": {},
     "output_type": "execute_result"
    }
   ],
   "source": [
    "confusion_matrix(finalmodel.actual_class, finalmodel.pred_class)"
   ]
  },
  {
   "cell_type": "code",
   "execution_count": 118,
   "metadata": {},
   "outputs": [
    {
     "name": "stdout",
     "output_type": "stream",
     "text": [
      "[[468  38]\n",
      " [ 52 116]]\n"
     ]
    }
   ],
   "source": [
    "adjust_thresh(finalmodel.pos_pred, .4, finalmodel.actual_class)"
   ]
  },
  {
   "cell_type": "markdown",
   "metadata": {},
   "source": [
    "I think I want my final threshold to be around .4 because .4 minimizes both the false positives and false negatives."
   ]
  },
  {
   "cell_type": "code",
   "execution_count": 119,
   "metadata": {},
   "outputs": [
    {
     "name": "stdout",
     "output_type": "stream",
     "text": [
      "[[450  56]\n",
      " [ 40 128]]\n"
     ]
    }
   ],
   "source": [
    "adjust_thresh(finalmodel.pos_pred, .3, finalmodel.actual_class)"
   ]
  },
  {
   "cell_type": "code",
   "execution_count": 121,
   "metadata": {},
   "outputs": [
    {
     "data": {
      "image/png": "[encoded data removed]",
      "text/plain": [
       "<Figure size 640x480 with 1 Axes>"
      ]
     },
     "metadata": {},
     "output_type": "display_data"
    }
   ],
   "source": [
    "from sklearn import metrics\n",
    "\n",
    "fpr, tpr, _ = metrics.roc_curve(y_test, finalmodel.pos_pred)\n",
    "auc = metrics.roc_auc_score(y_test, finalmodel.pos_pred)\n",
    "plt.plot(fpr,tpr,label=\"data 1, auc=\"+str(auc))\n",
    "plt.legend(loc=4)\n",
    "plt.plot([0, 1], [0, 1],'r--')\n",
    "plt.ylabel('True Positive Rate')\n",
    "plt.xlabel('False Positive Rate')\n",
    "plt.show()"
   ]
  },
  {
   "cell_type": "code",
   "execution_count": 122,
   "metadata": {},
   "outputs": [
    {
     "data": {
      "image/png": "[encoded data removed]",
      "text/plain": [
       "<Figure size 500x500 with 1 Axes>"
      ]
     },
     "metadata": {},
     "output_type": "display_data"
    }
   ],
   "source": [
    "from plot_metric.functions import BinaryClassification\n",
    "\n",
    "# Visualisation with plot_metric\n",
    "bc = BinaryClassification(y_test, finalmodel.pred_class, labels=[\"0\", \"1\"])\n",
    "\n",
    "# Figures\n",
    "plt.figure(figsize=(5,5))\n",
    "bc.plot_roc_curve()\n",
    "plt.show()"
   ]
  }
 ],
 "metadata": {
  "kernelspec": {
   "display_name": "Python 3",
   "language": "python",
   "name": "python3"
  },
  "language_info": {
   "codemirror_mode": {
    "name": "ipython",
    "version": 3
   },
   "file_extension": ".py",
   "mimetype": "text/x-python",
   "name": "python",
   "nbconvert_exporter": "python",
   "pygments_lexer": "ipython3",
   "version": "3.11.4"
  }
 },
 "nbformat": 4,
 "nbformat_minor": 2
}
