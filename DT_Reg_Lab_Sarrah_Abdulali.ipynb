{
 "cells": [
  {
   "cell_type": "markdown",
   "metadata": {},
   "source": [
    "Sarrah Abdulali\n",
    "#code123\n",
    "\n",
    "Congrats....again! Based off the amazing work you did on the classification model, you've been promoted to chief of all data scientists in Hollywood, your a total celebrity....among data scientists :).  \n",
    "\n",
    "Your boss, head of the studio, has now asked you to build a model to predict gross revenue in order to help them decide which movies to invest in.\n",
    "\n",
    "Once again, you would like to be able to explain the model to mere mortals but need a fairly robust and flexible approach so you've chosen to use decision trees to get started. \n",
    "\n",
    "In doing so...you leverage work you've done in the past to get the job done....you're a data scientist after all! "
   ]
  },
  {
   "cell_type": "code",
   "execution_count": 73,
   "metadata": {},
   "outputs": [],
   "source": [
    "import pandas as pd\n",
    "import numpy as np\n",
    "import matplotlib.pyplot as plt\n",
    "#import graphviz (wasn't working for me to install it in the terminal; a majority of us were having issues in class)\n",
    "\n",
    "from sklearn.model_selection import train_test_split,GridSearchCV,RepeatedStratifiedKFold, RepeatedKFold\n",
    "from sklearn import metrics\n",
    "from sklearn.metrics import ConfusionMatrixDisplay\n",
    "from sklearn.preprocessing import OrdinalEncoder\n",
    "from sklearn.tree import DecisionTreeClassifier, export_graphviz, DecisionTreeRegressor"
   ]
  },
  {
   "cell_type": "code",
   "execution_count": 74,
   "metadata": {},
   "outputs": [],
   "source": [
    "#1. Load the data\n",
    "#Sometimes need to set the working directory back out of a folder that we create a file in\n",
    "\n",
    "#import os\n",
    "#os.listdir()\n",
    "#print(os.getcwd())\n",
    "#os.chdir('c:\\\\Users\\\\Brian Wright\\\\Documents\\\\3001Python\\\\DS-3001')\n",
    "\n",
    "movie_metadata=pd.read_csv('/Users/Student/Downloads/DS-3001/data/movie_metadata.csv')\n",
    "movie_metadatav2=pd.read_csv('/Users/Student/Downloads/DS-3001/data/movie_metadata.csv') #I use this later for getting top 3 movies\n",
    "\n"
   ]
  },
  {
   "cell_type": "markdown",
   "metadata": {},
   "source": [
    "#2 Ensure all the variables are classified correctly including the target variable and collapse factor variables as needed."
   ]
  },
  {
   "cell_type": "code",
   "execution_count": 75,
   "metadata": {},
   "outputs": [
    {
     "name": "stdout",
     "output_type": "stream",
     "text": [
      "<class 'pandas.core.frame.DataFrame'>\n",
      "RangeIndex: 5043 entries, 0 to 5042\n",
      "Data columns (total 28 columns):\n",
      " #   Column                     Non-Null Count  Dtype  \n",
      "---  ------                     --------------  -----  \n",
      " 0   color                      5024 non-null   object \n",
      " 1   director_name              4939 non-null   object \n",
      " 2   num_critic_for_reviews     4993 non-null   float64\n",
      " 3   duration                   5028 non-null   float64\n",
      " 4   director_facebook_likes    4939 non-null   float64\n",
      " 5   actor_3_facebook_likes     5020 non-null   float64\n",
      " 6   actor_2_name               5030 non-null   object \n",
      " 7   actor_1_facebook_likes     5036 non-null   float64\n",
      " 8   gross                      4159 non-null   float64\n",
      " 9   genres                     5043 non-null   object \n",
      " 10  actor_1_name               5036 non-null   object \n",
      " 11  movie_title                5043 non-null   object \n",
      " 12  num_voted_users            5043 non-null   int64  \n",
      " 13  cast_total_facebook_likes  5043 non-null   int64  \n",
      " 14  actor_3_name               5020 non-null   object \n",
      " 15  facenumber_in_poster       5030 non-null   float64\n",
      " 16  plot_keywords              4890 non-null   object \n",
      " 17  movie_imdb_link            5043 non-null   object \n",
      " 18  num_user_for_reviews       5022 non-null   float64\n",
      " 19  language                   5029 non-null   object \n",
      " 20  country                    5038 non-null   object \n",
      " 21  content_rating             4740 non-null   object \n",
      " 22  budget                     4551 non-null   float64\n",
      " 23  title_year                 4935 non-null   float64\n",
      " 24  actor_2_facebook_likes     5030 non-null   float64\n",
      " 25  imdb_score                 5043 non-null   float64\n",
      " 26  aspect_ratio               4714 non-null   float64\n",
      " 27  movie_facebook_likes       5043 non-null   int64  \n",
      "dtypes: float64(13), int64(3), object(12)\n",
      "memory usage: 1.1+ MB\n"
     ]
    }
   ],
   "source": [
    "movie_metadata.info()"
   ]
  },
  {
   "cell_type": "code",
   "execution_count": 76,
   "metadata": {},
   "outputs": [
    {
     "data": {
      "text/plain": [
       "content_rating\n",
       "Adult     2341\n",
       "Teen      1491\n",
       "Family     908\n",
       "Name: count, dtype: int64"
      ]
     },
     "execution_count": 76,
     "metadata": {},
     "output_type": "execute_result"
    }
   ],
   "source": [
    "movie_metadata['content_rating'].value_counts()\n",
    "movie_metadata['content_rating']= movie_metadata['content_rating'].replace(\n",
    "    ['R', 'Not Rated', 'Unrated', 'TV-MA', 'X', 'PG-13','PG', 'G', 'Approved', 'TV-14', 'TV-PG', 'TV-G', 'Passed', 'NC-17', 'GP', 'M', 'TV-Y', 'TV-Y7'], \n",
    "    ['Adult', 'Adult', 'Adult', 'Adult', 'Adult', 'Teen','Family','Family','Family','Teen','Family','Family','Family','Adult','Family','Adult','Family','Family']\n",
    ")\n",
    "movie_metadata['content_rating'].value_counts()"
   ]
  },
  {
   "cell_type": "code",
   "execution_count": 77,
   "metadata": {},
   "outputs": [
    {
     "name": "stdout",
     "output_type": "stream",
     "text": [
      "<class 'pandas.core.frame.DataFrame'>\n",
      "RangeIndex: 5043 entries, 0 to 5042\n",
      "Data columns (total 20 columns):\n",
      " #   Column                     Non-Null Count  Dtype  \n",
      "---  ------                     --------------  -----  \n",
      " 0   color                      5043 non-null   float64\n",
      " 1   num_critic_for_reviews     4993 non-null   float64\n",
      " 2   duration                   5028 non-null   float64\n",
      " 3   director_facebook_likes    4939 non-null   float64\n",
      " 4   actor_3_facebook_likes     5020 non-null   float64\n",
      " 5   actor_1_facebook_likes     5036 non-null   float64\n",
      " 6   gross                      4159 non-null   float64\n",
      " 7   num_voted_users            5043 non-null   int64  \n",
      " 8   cast_total_facebook_likes  5043 non-null   int64  \n",
      " 9   facenumber_in_poster       5030 non-null   float64\n",
      " 10  num_user_for_reviews       5022 non-null   float64\n",
      " 11  language                   5043 non-null   float64\n",
      " 12  country                    5043 non-null   float64\n",
      " 13  content_rating             4740 non-null   float64\n",
      " 14  budget                     4551 non-null   float64\n",
      " 15  title_year                 4935 non-null   float64\n",
      " 16  actor_2_facebook_likes     5030 non-null   float64\n",
      " 17  imdb_score                 5043 non-null   float64\n",
      " 18  aspect_ratio               4714 non-null   float64\n",
      " 19  movie_facebook_likes       5043 non-null   int64  \n",
      "dtypes: float64(17), int64(3)\n",
      "memory usage: 788.1 KB\n"
     ]
    }
   ],
   "source": [
    "movie_metadata.loc[movie_metadata['language'] != 'English', 'language'] = 'non-English'\n",
    "movie_metadata[[\"language\"]] = OrdinalEncoder().fit_transform(movie_metadata[[\"language\"]])\n",
    "\n",
    "movie_metadata.loc[movie_metadata['country'] != 'USA', 'country'] = 'foreign'\n",
    "movie_metadata[[\"country\"]] = OrdinalEncoder().fit_transform(movie_metadata[[\"country\"]])\n",
    "\n",
    "movie_metadata[\"content_rating\"]= movie_metadata[\"content_rating\"].replace(\n",
    "    ['R','PG-13','PG','Not Rated', 'G', 'Unrated', 'Approved', 'TV-14', 'TV-MA', 'TV-PG', 'X', 'TV-G', 'Passed', 'NC-17', 'GP', 'M', 'TV-Y', 'TV-Y7'], \n",
    "    ['Adult','Teen','Family','Adult','Family','Adult','Family','Teen','Adult','Family','Adult','Family','Family','Adult','Family','Adult','Family','Family']\n",
    ")\n",
    "\n",
    "movie_metadata.loc[movie_metadata['color'] != 'Color', 'color'] = 'Black and White'\n",
    "movie_metadata[[\"color\"]] = OrdinalEncoder().fit_transform(movie_metadata[[\"color\"]])\n",
    "\n",
    "drop_cols = ['director_name', 'actor_2_name', 'genres',\n",
    "             'actor_1_name', 'movie_title', 'actor_3_name',\n",
    "             'plot_keywords', 'movie_imdb_link']\n",
    "movie_metadata = movie_metadata.drop(drop_cols, axis=1)\n",
    "\n",
    "movie_metadata[[\"content_rating\"]] = OrdinalEncoder().fit_transform(movie_metadata[[\"content_rating\"]])\n",
    "movie_metadata.info()"
   ]
  },
  {
   "cell_type": "markdown",
   "metadata": {},
   "source": [
    "#3 Check for missing variables and correct as needed."
   ]
  },
  {
   "cell_type": "code",
   "execution_count": 78,
   "metadata": {},
   "outputs": [
    {
     "name": "stderr",
     "output_type": "stream",
     "text": [
      "c:\\Users\\Student\\miniconda3\\Lib\\site-packages\\seaborn\\axisgrid.py:118: UserWarning: The figure layout has changed to tight\n",
      "  self._figure.tight_layout(*args, **kwargs)\n"
     ]
    },
    {
     "data": {
      "text/plain": [
       "<seaborn.axisgrid.FacetGrid at 0x2208a0a8d50>"
      ]
     },
     "execution_count": 78,
     "metadata": {},
     "output_type": "execute_result"
    },
    {
     "data": {
      "image/png": "[encoded data removed]",
      "text/plain": [
       "<Figure size 709.875x500 with 1 Axes>"
      ]
     },
     "metadata": {},
     "output_type": "display_data"
    }
   ],
   "source": [
    "import seaborn as sns\n",
    "sns.displot(\n",
    "    data=movie_metadata.isna().melt(value_name=\"missing\"),\n",
    "    y=\"variable\",\n",
    "    hue=\"missing\",\n",
    "    multiple=\"fill\",\n",
    "    aspect=1.25\n",
    ")"
   ]
  },
  {
   "cell_type": "code",
   "execution_count": 79,
   "metadata": {},
   "outputs": [],
   "source": [
    "movie_metadata1=movie_metadata.dropna()"
   ]
  },
  {
   "cell_type": "markdown",
   "metadata": {},
   "source": [
    "#4 Guess what, you don't need to scale the data, because DTs don't require this to be done, they make local greedy decisions...keeps getting easier, go to the next step."
   ]
  },
  {
   "cell_type": "markdown",
   "metadata": {},
   "source": [
    "#5 Determine the range and variance of the target variable."
   ]
  },
  {
   "cell_type": "code",
   "execution_count": 80,
   "metadata": {},
   "outputs": [],
   "source": [
    "revenue_range = max(movie_metadata1['gross']) - min(movie_metadata1['gross'])\n",
    "variance = np.var(movie_metadata1['gross'])"
   ]
  },
  {
   "cell_type": "code",
   "execution_count": 81,
   "metadata": {},
   "outputs": [],
   "source": [
    "X= movie_metadata1.drop(columns='gross')\n",
    "y= movie_metadata1.gross"
   ]
  },
  {
   "cell_type": "markdown",
   "metadata": {},
   "source": [
    "#6 Split your data into test, tune, and train. (80/10/10)"
   ]
  },
  {
   "cell_type": "code",
   "execution_count": 82,
   "metadata": {},
   "outputs": [],
   "source": [
    "X_train, X_test, y_train, y_test = train_test_split(X, y, train_size=0.80, random_state=21)\n",
    "X_tune, X_test, y_tune, y_test = train_test_split(X_test,y_test,  train_size = 0.50,random_state=49)"
   ]
  },
  {
   "cell_type": "markdown",
   "metadata": {},
   "source": [
    "#7 Create the kfold object for cross validation."
   ]
  },
  {
   "cell_type": "code",
   "execution_count": 83,
   "metadata": {},
   "outputs": [],
   "source": [
    "kfold =RepeatedKFold(n_splits=10,n_repeats =5, random_state=30)"
   ]
  },
  {
   "cell_type": "code",
   "execution_count": 84,
   "metadata": {},
   "outputs": [],
   "source": [
    "parameter={\n",
    "    \"max_depth\" : [1,2,3,4],\n",
    "        }"
   ]
  },
  {
   "cell_type": "markdown",
   "metadata": {},
   "source": [
    "#8 Create the scoring metric (several measures) you will use to evaluate your model and the max depth hyperparameter."
   ]
  },
  {
   "cell_type": "code",
   "execution_count": 85,
   "metadata": {},
   "outputs": [],
   "source": [
    "scoringmetric= ['neg_mean_squared_error','r2','neg_mean_absolute_error']"
   ]
  },
  {
   "cell_type": "markdown",
   "metadata": {},
   "source": [
    "#9 Build the regression tree object. "
   ]
  },
  {
   "cell_type": "code",
   "execution_count": 86,
   "metadata": {},
   "outputs": [],
   "source": [
    "#Regressor model we will use\n",
    "regobj=DecisionTreeRegressor(random_state=30)"
   ]
  },
  {
   "cell_type": "markdown",
   "metadata": {},
   "source": [
    "#10 Use the kfold object and the scoring metric to find the best hyperparameter value for max depth via the grid search method."
   ]
  },
  {
   "cell_type": "code",
   "execution_count": 87,
   "metadata": {},
   "outputs": [],
   "source": [
    "#Set up search for best decision tree regressor estimator based on r-sqaured and all different folds\n",
    "search = GridSearchCV(regobj, parameter, scoring=scoringmetric, n_jobs=-1, cv=kfold,refit='r2')"
   ]
  },
  {
   "cell_type": "markdown",
   "metadata": {},
   "source": [
    "#11 Fit the model to the training data."
   ]
  },
  {
   "cell_type": "code",
   "execution_count": 88,
   "metadata": {},
   "outputs": [],
   "source": [
    "#execute search on our training data\n",
    "model = search.fit(X_train, y_train)"
   ]
  },
  {
   "cell_type": "markdown",
   "metadata": {},
   "source": [
    "#12 What is the best depth value?"
   ]
  },
  {
   "cell_type": "code",
   "execution_count": 89,
   "metadata": {},
   "outputs": [
    {
     "name": "stdout",
     "output_type": "stream",
     "text": [
      "DecisionTreeRegressor(max_depth=4, random_state=30)\n"
     ]
    }
   ],
   "source": [
    "bestest = model.best_estimator_\n",
    "print(bestest)"
   ]
  },
  {
   "cell_type": "markdown",
   "metadata": {},
   "source": [
    "#13 View the results, comment on how the model performed using several evaluation metrics."
   ]
  },
  {
   "cell_type": "code",
   "execution_count": 90,
   "metadata": {},
   "outputs": [],
   "source": [
    "dot_data = export_graphviz(bestest, out_file =None,\n",
    "               feature_names =X.columns, #feature names from dataset\n",
    "               filled=True, \n",
    "                rounded=True, ) \n",
    "               \n",
    "#graph=graphviz.Source(dot_data)\n",
    "#graph"
   ]
  },
  {
   "cell_type": "code",
   "execution_count": 91,
   "metadata": {},
   "outputs": [
    {
     "name": "stdout",
     "output_type": "stream",
     "text": [
      "{'mean_fit_time': array([0.03994719, 0.06482615, 0.1003927 , 0.12489056]), 'std_fit_time': array([0.03355087, 0.03387768, 0.0281078 , 0.03698691]), 'mean_score_time': array([0.01668635, 0.01803772, 0.02063346, 0.02271879]), 'std_score_time': array([0.01748369, 0.01769612, 0.01690871, 0.02302017]), 'param_max_depth': masked_array(data=[1, 2, 3, 4],\n",
      "             mask=[False, False, False, False],\n",
      "       fill_value='?',\n",
      "            dtype=object), 'params': [{'max_depth': 1}, {'max_depth': 2}, {'max_depth': 3}, {'max_depth': 4}], 'split0_test_neg_mean_squared_error': array([-2.58189564e+15, -2.23847175e+15, -2.04104035e+15, -2.26128120e+15]), 'split1_test_neg_mean_squared_error': array([-2.74955733e+15, -2.43431436e+15, -2.07532080e+15, -1.84611388e+15]), 'split2_test_neg_mean_squared_error': array([-3.91255890e+15, -2.84794147e+15, -2.26359534e+15, -2.26373547e+15]), 'split3_test_neg_mean_squared_error': array([-3.25256676e+15, -2.53832929e+15, -2.14131110e+15, -2.21249808e+15]), 'split4_test_neg_mean_squared_error': array([-3.50227964e+15, -2.49162184e+15, -2.23705510e+15, -2.11633000e+15]), 'split5_test_neg_mean_squared_error': array([-3.52073938e+15, -3.32832892e+15, -2.72790770e+15, -2.34118048e+15]), 'split6_test_neg_mean_squared_error': array([-4.39606765e+15, -3.50598206e+15, -2.62825124e+15, -2.30374467e+15]), 'split7_test_neg_mean_squared_error': array([-4.05167272e+15, -3.49832124e+15, -2.85461072e+15, -2.52089358e+15]), 'split8_test_neg_mean_squared_error': array([-4.00453305e+15, -2.72227042e+15, -2.30585645e+15, -2.18226137e+15]), 'split9_test_neg_mean_squared_error': array([-3.72846148e+15, -2.71291271e+15, -2.40335773e+15, -2.30902685e+15]), 'split10_test_neg_mean_squared_error': array([-3.14532218e+15, -2.51531990e+15, -2.06408432e+15, -2.06531418e+15]), 'split11_test_neg_mean_squared_error': array([-3.43478243e+15, -3.08252485e+15, -2.65734204e+15, -2.15252824e+15]), 'split12_test_neg_mean_squared_error': array([-3.19301939e+15, -2.54875755e+15, -2.05282512e+15, -1.93623075e+15]), 'split13_test_neg_mean_squared_error': array([-3.81662820e+15, -3.11160733e+15, -2.26013738e+15, -2.23907054e+15]), 'split14_test_neg_mean_squared_error': array([-5.11611296e+15, -3.70564896e+15, -3.36857413e+15, -2.46657582e+15]), 'split15_test_neg_mean_squared_error': array([-3.68605398e+15, -2.92590462e+15, -2.72034097e+15, -2.49310797e+15]), 'split16_test_neg_mean_squared_error': array([-3.40393379e+15, -2.63666917e+15, -2.19781165e+15, -2.15500785e+15]), 'split17_test_neg_mean_squared_error': array([-3.10723108e+15, -2.48925859e+15, -2.32144966e+15, -1.69309780e+15]), 'split18_test_neg_mean_squared_error': array([-3.88195056e+15, -3.41675526e+15, -2.65788036e+15, -1.99632756e+15]), 'split19_test_neg_mean_squared_error': array([-4.23575280e+15, -3.18310179e+15, -2.61379526e+15, -2.07103305e+15]), 'split20_test_neg_mean_squared_error': array([-2.99164133e+15, -2.33444775e+15, -2.06577227e+15, -2.00180387e+15]), 'split21_test_neg_mean_squared_error': array([-2.33324511e+15, -2.20853051e+15, -2.13784692e+15, -1.53254804e+15]), 'split22_test_neg_mean_squared_error': array([-4.37762280e+15, -3.48875810e+15, -3.39598878e+15, -3.11355753e+15]), 'split23_test_neg_mean_squared_error': array([-3.27175360e+15, -2.68583306e+15, -2.48767108e+15, -2.18814660e+15]), 'split24_test_neg_mean_squared_error': array([-3.29259032e+15, -2.42016658e+15, -2.38168949e+15, -1.87482580e+15]), 'split25_test_neg_mean_squared_error': array([-2.81482175e+15, -2.35102292e+15, -1.97880571e+15, -1.44179670e+15]), 'split26_test_neg_mean_squared_error': array([-2.85464586e+15, -2.42630009e+15, -2.25760528e+15, -2.06314818e+15]), 'split27_test_neg_mean_squared_error': array([-4.19535730e+15, -3.16661601e+15, -2.84504822e+15, -2.62577656e+15]), 'split28_test_neg_mean_squared_error': array([-3.90948442e+15, -2.96698190e+15, -2.31502640e+15, -3.00918873e+15]), 'split29_test_neg_mean_squared_error': array([-5.57290948e+15, -4.12065943e+15, -3.80655622e+15, -3.65826644e+15]), 'split30_test_neg_mean_squared_error': array([-5.29054383e+15, -4.17460360e+15, -3.58361292e+15, -3.35207362e+15]), 'split31_test_neg_mean_squared_error': array([-3.24289643e+15, -2.64446385e+15, -2.55572647e+15, -2.33627204e+15]), 'split32_test_neg_mean_squared_error': array([-3.64718465e+15, -2.85443956e+15, -2.10415277e+15, -1.89189212e+15]), 'split33_test_neg_mean_squared_error': array([-3.74638717e+15, -3.20364374e+15, -2.86619117e+15, -2.57149803e+15]), 'split34_test_neg_mean_squared_error': array([-3.63895834e+15, -3.37924277e+15, -2.50916944e+15, -1.96759869e+15]), 'split35_test_neg_mean_squared_error': array([-3.32684738e+15, -2.47895858e+15, -1.88422207e+15, -2.03685168e+15]), 'split36_test_neg_mean_squared_error': array([-4.81486807e+15, -3.24603096e+15, -2.80869302e+15, -3.15800613e+15]), 'split37_test_neg_mean_squared_error': array([-2.99930612e+15, -2.31241033e+15, -2.09902769e+15, -1.71527090e+15]), 'split38_test_neg_mean_squared_error': array([-3.22647581e+15, -2.70865878e+15, -1.97214207e+15, -1.96796875e+15]), 'split39_test_neg_mean_squared_error': array([-3.03841444e+15, -2.41944474e+15, -1.96174250e+15, -1.86089076e+15]), 'split40_test_neg_mean_squared_error': array([-3.76425029e+15, -2.90615534e+15, -2.47164950e+15, -1.69549106e+15]), 'split41_test_neg_mean_squared_error': array([-3.01068695e+15, -2.21194916e+15, -1.84516077e+15, -1.78292655e+15]), 'split42_test_neg_mean_squared_error': array([-4.10498332e+15, -2.96725887e+15, -2.51200726e+15, -2.57941608e+15]), 'split43_test_neg_mean_squared_error': array([-4.11674714e+15, -2.91281550e+15, -2.79415568e+15, -2.37118964e+15]), 'split44_test_neg_mean_squared_error': array([-2.88382492e+15, -2.48729420e+15, -2.32563301e+15, -2.18171531e+15]), 'split45_test_neg_mean_squared_error': array([-3.30095298e+15, -2.54396013e+15, -2.11937211e+15, -1.80349581e+15]), 'split46_test_neg_mean_squared_error': array([-4.42826630e+15, -3.55688689e+15, -3.31349043e+15, -4.02675658e+15]), 'split47_test_neg_mean_squared_error': array([-3.44351163e+15, -2.72085515e+15, -2.53535256e+15, -2.77118852e+15]), 'split48_test_neg_mean_squared_error': array([-3.39391266e+15, -3.02755541e+15, -2.60241838e+15, -2.50663664e+15]), 'split49_test_neg_mean_squared_error': array([-3.13396172e+15, -2.28902207e+15, -1.73885893e+15, -1.56905055e+15]), 'mean_test_neg_mean_squared_error': array([-3.61776344e+15, -2.86298016e+15, -2.45734673e+15, -2.26561214e+15]), 'std_test_neg_mean_squared_error': array([6.73137950e+14, 4.79792964e+14, 4.51106273e+14, 5.19875734e+14]), 'rank_test_neg_mean_squared_error': array([4, 3, 2, 1]), 'split0_test_r2': array([0.34735363, 0.43416362, 0.48406994, 0.4283979 ]), 'split1_test_r2': array([0.33816668, 0.41404737, 0.50045906, 0.5556304 ]), 'split2_test_r2': array([0.15014307, 0.38139135, 0.50831867, 0.50828823]), 'split3_test_r2': array([0.22080081, 0.39190667, 0.4870181 , 0.46996423]), 'split4_test_r2': array([0.35325687, 0.53988845, 0.58689763, 0.60919115]), 'split5_test_r2': array([0.35322855, 0.38857499, 0.49887435, 0.56991741]), 'split6_test_r2': array([0.14991592, 0.32203511, 0.49176521, 0.55451626]), 'split7_test_r2': array([0.37557792, 0.46085748, 0.5600627 , 0.61149339]), 'split8_test_r2': array([0.33293574, 0.54653157, 0.61589668, 0.63648482]), 'split9_test_r2': array([0.26134399, 0.46253722, 0.52386403, 0.54255219]), 'split10_test_r2': array([0.3390571 , 0.47144275, 0.56626323, 0.5660048 ]), 'split11_test_r2': array([0.10719073, 0.19875369, 0.30927223, 0.4404894 ]), 'split12_test_r2': array([0.22958951, 0.38503676, 0.50469514, 0.53282699]), 'split13_test_r2': array([0.32348399, 0.44845238, 0.5993796 , 0.6031138 ]), 'split14_test_r2': array([0.13010522, 0.36992699, 0.42723996, 0.5806071 ]), 'split15_test_r2': array([0.20664068, 0.37024967, 0.41449369, 0.46340166]), 'split16_test_r2': array([0.32548763, 0.47752627, 0.56448884, 0.5729707 ]), 'split17_test_r2': array([0.35150781, 0.48048126, 0.51550369, 0.64664337]), 'split18_test_r2': array([0.33346105, 0.41333605, 0.54363644, 0.65722642]), 'split19_test_r2': array([0.28469118, 0.46245664, 0.55859775, 0.65025622]), 'split20_test_r2': array([0.39211823, 0.52565563, 0.58024871, 0.59324667]), 'split21_test_r2': array([0.29843437, 0.33593385, 0.35718715, 0.53918985]), 'split22_test_r2': array([0.33850894, 0.47282295, 0.48684107, 0.52951852]), 'split23_test_r2': array([0.24366765, 0.37911509, 0.42492426, 0.49416543]), 'split24_test_r2': array([0.15143077, 0.37627257, 0.38618892, 0.51681827]), 'split25_test_r2': array([0.20562483, 0.33651421, 0.4415582 , 0.59310834]), 'split26_test_r2': array([0.40927845, 0.4979175 , 0.53282609, 0.57306575]), 'split27_test_r2': array([0.21642551, 0.40856539, 0.46862519, 0.50957895]), 'split28_test_r2': array([0.3550961 , 0.5105702 , 0.618116  , 0.50360781]), 'split29_test_r2': array([0.25996171, 0.45280902, 0.49451945, 0.51421116]), 'split30_test_r2': array([0.30084682, 0.44831997, 0.52642026, 0.55701852]), 'split31_test_r2': array([0.33387042, 0.4567956 , 0.47502332, 0.52010188]), 'split32_test_r2': array([0.11398976, 0.30657125, 0.48883835, 0.54040282]), 'split33_test_r2': array([0.28243058, 0.38638569, 0.45102013, 0.50746459]), 'split34_test_r2': array([0.2547693 , 0.30795706, 0.48614139, 0.59705091]), 'split35_test_r2': array([0.21303067, 0.41359968, 0.55428524, 0.51818054]), 'split36_test_r2': array([0.15273294, 0.42879949, 0.50575737, 0.44428912]), 'split37_test_r2': array([0.20889051, 0.39006901, 0.4463517 , 0.54757299]), 'split38_test_r2': array([0.36975964, 0.4709069 , 0.61477364, 0.61558883]), 'split39_test_r2': array([0.39463798, 0.51795912, 0.60914996, 0.62924327]), 'split40_test_r2': array([0.32685282, 0.48030281, 0.55800391, 0.6968015 ]), 'split41_test_r2': array([0.27041218, 0.46397245, 0.55285726, 0.56793864]), 'split42_test_r2': array([0.27979504, 0.47940481, 0.55927712, 0.54745047]), 'split43_test_r2': array([0.34146287, 0.53405028, 0.55303175, 0.62069168]), 'split44_test_r2': array([0.32044217, 0.4138825 , 0.45197709, 0.48589052]), 'split45_test_r2': array([0.32383203, 0.47889462, 0.56586733, 0.6305715 ]), 'split46_test_r2': array([0.24195619, 0.39112151, 0.43278684, 0.31068782]), 'split47_test_r2': array([0.28897545, 0.43819129, 0.47649431, 0.42779834]), 'split48_test_r2': array([0.17597446, 0.26492423, 0.36814544, 0.39140078]), 'split49_test_r2': array([0.35177861, 0.52654397, 0.64033844, 0.67546122]), 'mean_test_r2': array([0.2786185 , 0.4262885 , 0.50736746, 0.54796186]), 'std_test_r2': array([0.07949   , 0.07260172, 0.07174044, 0.0755913 ]), 'rank_test_r2': array([4, 3, 2, 1]), 'split0_test_neg_mean_absolute_error': array([-34258774.16841692, -31376504.20860252, -30051536.15184938,\n",
      "       -30269510.56550736]), 'split1_test_neg_mean_absolute_error': array([-37703766.78350081, -33103711.58888442, -30642706.75384608,\n",
      "       -28927994.51609861]), 'split2_test_neg_mean_absolute_error': array([-42390954.32551635, -36274424.49005009, -30489594.73118851,\n",
      "       -29697997.91458587]), 'split3_test_neg_mean_absolute_error': array([-38337978.27979821, -32420935.72886328, -27573034.57317352,\n",
      "       -28180806.45807919]), 'split4_test_neg_mean_absolute_error': array([-40548748.35219593, -34649356.17496069, -31021544.02554614,\n",
      "       -29480949.22214835]), 'split5_test_neg_mean_absolute_error': array([-38392370.569915  , -34190539.64398693, -32243890.97328041,\n",
      "       -30272959.82167891]), 'split6_test_neg_mean_absolute_error': array([-43029291.0186599 , -36546319.47487006, -31845948.81019858,\n",
      "       -30119536.37208753]), 'split7_test_neg_mean_absolute_error': array([-39195431.24445707, -35526445.138352  , -31721443.9307839 ,\n",
      "       -30310355.23261692]), 'split8_test_neg_mean_absolute_error': array([-39622365.98116583, -31646014.68762731, -28332862.65515908,\n",
      "       -27171231.39057531]), 'split9_test_neg_mean_absolute_error': array([-39954389.28288221, -33654414.98841432, -29647489.89499373,\n",
      "       -29567246.37411717]), 'split10_test_neg_mean_absolute_error': array([-38908250.57811713, -33376553.424752  , -29218584.88983677,\n",
      "       -28003891.80162217]), 'split11_test_neg_mean_absolute_error': array([-40213417.27529237, -35320273.04506582, -31991677.36522906,\n",
      "       -29806439.18781506]), 'split12_test_neg_mean_absolute_error': array([-38953910.8357935 , -33577694.47134793, -30644875.34963807,\n",
      "       -29081921.12080374]), 'split13_test_neg_mean_absolute_error': array([-40323979.64860936, -35182895.3745168 , -30257237.4044353 ,\n",
      "       -29958587.74366011]), 'split14_test_neg_mean_absolute_error': array([-45089642.67614899, -37734531.50736173, -34136638.32543114,\n",
      "       -31621550.73412741]), 'split15_test_neg_mean_absolute_error': array([-38947414.55197473, -34952731.81915076, -30918562.09713057,\n",
      "       -29619612.46290182]), 'split16_test_neg_mean_absolute_error': array([-37038997.58353391, -33946545.56753936, -28780023.65466621,\n",
      "       -27639212.38825764]), 'split17_test_neg_mean_absolute_error': array([-38774393.72111183, -31583049.44293822, -29184244.28292632,\n",
      "       -27890655.27876632]), 'split18_test_neg_mean_absolute_error': array([-38102370.67010473, -35169026.50891833, -31717927.87267333,\n",
      "       -28865143.52794262]), 'split19_test_neg_mean_absolute_error': array([-41013832.90033599, -34782966.82414959, -30701646.65202619,\n",
      "       -28529166.33049973]), 'split20_test_neg_mean_absolute_error': array([-36147938.40976667, -31204499.27478786, -28420264.25820439,\n",
      "       -27317433.29348097]), 'split21_test_neg_mean_absolute_error': array([-34573853.79536536, -31153970.41083475, -29995457.37864459,\n",
      "       -27133728.47987599]), 'split22_test_neg_mean_absolute_error': array([-41524606.30974267, -36762757.83424366, -33699313.8025338 ,\n",
      "       -31682966.76556491]), 'split23_test_neg_mean_absolute_error': array([-39243088.58535222, -33160420.6329926 , -31377602.76095229,\n",
      "       -29242356.41566266]), 'split24_test_neg_mean_absolute_error': array([-40592080.00525543, -33352819.51922023, -30543627.05586869,\n",
      "       -27521111.60552467]), 'split25_test_neg_mean_absolute_error': array([-35907795.51558521, -29758948.61201802, -27212332.51831211,\n",
      "       -24988316.91394958]), 'split26_test_neg_mean_absolute_error': array([-38283597.62646765, -34584926.9855253 , -32351596.99843066,\n",
      "       -30704839.31957101]), 'split27_test_neg_mean_absolute_error': array([-39842777.55770671, -34304424.0393246 , -30012947.91127574,\n",
      "       -28357457.95363421]), 'split28_test_neg_mean_absolute_error': array([-41299010.66184816, -35170759.38228357, -31652334.16176064,\n",
      "       -31637057.52723833]), 'split29_test_neg_mean_absolute_error': array([-45516922.07897667, -36268986.31561422, -33469440.5228956 ,\n",
      "       -32468359.94080092]), 'split30_test_neg_mean_absolute_error': array([-42004446.30412591, -35683623.88489185, -32842756.18391305,\n",
      "       -31562251.29404084]), 'split31_test_neg_mean_absolute_error': array([-39542195.73747664, -34286426.20525353, -33229682.43425532,\n",
      "       -31483171.63786877]), 'split32_test_neg_mean_absolute_error': array([-39166574.45002389, -32744720.03662249, -28534211.33947029,\n",
      "       -26040227.68559758]), 'split33_test_neg_mean_absolute_error': array([-42323881.18272367, -37938740.99058204, -33689294.48827857,\n",
      "       -32236089.79050799]), 'split34_test_neg_mean_absolute_error': array([-39683320.91608391, -35451430.57520134, -30506575.83707741,\n",
      "       -28995382.08938025]), 'split35_test_neg_mean_absolute_error': array([-40738838.98483279, -34690479.47778   , -29654383.10378557,\n",
      "       -29702685.4443935 ]), 'split36_test_neg_mean_absolute_error': array([-42376914.27541406, -35307796.85141055, -31811254.1552618 ,\n",
      "       -32042742.41769902]), 'split37_test_neg_mean_absolute_error': array([-38964513.40968516, -32174933.43850091, -28534659.23158846,\n",
      "       -27009093.88851683]), 'split38_test_neg_mean_absolute_error': array([-37659975.70155586, -33674357.12265669, -28559251.99151563,\n",
      "       -28237916.39059585]), 'split39_test_neg_mean_absolute_error': array([-37094278.59186353, -32176140.83972965, -28067552.72770964,\n",
      "       -27677199.09458913]), 'split40_test_neg_mean_absolute_error': array([-38140219.3958396 , -31119160.15751906, -28998522.46112066,\n",
      "       -25699046.92654016]), 'split41_test_neg_mean_absolute_error': array([-37768345.46861459, -30986098.75965641, -28375050.18286781,\n",
      "       -27547647.19256572]), 'split42_test_neg_mean_absolute_error': array([-38725256.84044035, -31248015.51242246, -28385301.94075681,\n",
      "       -27301185.73928537]), 'split43_test_neg_mean_absolute_error': array([-43680755.6660743 , -35410911.95927878, -34325409.27124459,\n",
      "       -32602804.66039493]), 'split44_test_neg_mean_absolute_error': array([-37290861.33015188, -33368777.64885718, -31217904.74951546,\n",
      "       -29690877.18697267]), 'split45_test_neg_mean_absolute_error': array([-38245935.24535353, -32069717.89049235, -29827143.69826674,\n",
      "       -27885808.52178216]), 'split46_test_neg_mean_absolute_error': array([-42088498.6513902 , -36291325.96032787, -32667106.66489373,\n",
      "       -32670159.63845067]), 'split47_test_neg_mean_absolute_error': array([-40683245.70169221, -35598545.45225818, -32641288.85099715,\n",
      "       -31525878.66896545]), 'split48_test_neg_mean_absolute_error': array([-38742108.6462476 , -36257579.50992908, -32655355.00816757,\n",
      "       -30679292.75602663]), 'split49_test_neg_mean_absolute_error': array([-37683073.09397648, -32954442.29919802, -27906415.50782032,\n",
      "       -27078336.01844886]), 'mean_test_neg_mean_absolute_error': array([-39526703.81174327, -34003413.43379531, -30645710.15182795,\n",
      "       -29274723.87403635]), 'std_test_neg_mean_absolute_error': array([2321644.00878347, 1910046.1380777 , 1865415.44200252,\n",
      "       1896074.67532388]), 'rank_test_neg_mean_absolute_error': array([4, 3, 2, 1])}\n",
      "dict_keys(['mean_fit_time', 'std_fit_time', 'mean_score_time', 'std_score_time', 'param_max_depth', 'params', 'split0_test_neg_mean_squared_error', 'split1_test_neg_mean_squared_error', 'split2_test_neg_mean_squared_error', 'split3_test_neg_mean_squared_error', 'split4_test_neg_mean_squared_error', 'split5_test_neg_mean_squared_error', 'split6_test_neg_mean_squared_error', 'split7_test_neg_mean_squared_error', 'split8_test_neg_mean_squared_error', 'split9_test_neg_mean_squared_error', 'split10_test_neg_mean_squared_error', 'split11_test_neg_mean_squared_error', 'split12_test_neg_mean_squared_error', 'split13_test_neg_mean_squared_error', 'split14_test_neg_mean_squared_error', 'split15_test_neg_mean_squared_error', 'split16_test_neg_mean_squared_error', 'split17_test_neg_mean_squared_error', 'split18_test_neg_mean_squared_error', 'split19_test_neg_mean_squared_error', 'split20_test_neg_mean_squared_error', 'split21_test_neg_mean_squared_error', 'split22_test_neg_mean_squared_error', 'split23_test_neg_mean_squared_error', 'split24_test_neg_mean_squared_error', 'split25_test_neg_mean_squared_error', 'split26_test_neg_mean_squared_error', 'split27_test_neg_mean_squared_error', 'split28_test_neg_mean_squared_error', 'split29_test_neg_mean_squared_error', 'split30_test_neg_mean_squared_error', 'split31_test_neg_mean_squared_error', 'split32_test_neg_mean_squared_error', 'split33_test_neg_mean_squared_error', 'split34_test_neg_mean_squared_error', 'split35_test_neg_mean_squared_error', 'split36_test_neg_mean_squared_error', 'split37_test_neg_mean_squared_error', 'split38_test_neg_mean_squared_error', 'split39_test_neg_mean_squared_error', 'split40_test_neg_mean_squared_error', 'split41_test_neg_mean_squared_error', 'split42_test_neg_mean_squared_error', 'split43_test_neg_mean_squared_error', 'split44_test_neg_mean_squared_error', 'split45_test_neg_mean_squared_error', 'split46_test_neg_mean_squared_error', 'split47_test_neg_mean_squared_error', 'split48_test_neg_mean_squared_error', 'split49_test_neg_mean_squared_error', 'mean_test_neg_mean_squared_error', 'std_test_neg_mean_squared_error', 'rank_test_neg_mean_squared_error', 'split0_test_r2', 'split1_test_r2', 'split2_test_r2', 'split3_test_r2', 'split4_test_r2', 'split5_test_r2', 'split6_test_r2', 'split7_test_r2', 'split8_test_r2', 'split9_test_r2', 'split10_test_r2', 'split11_test_r2', 'split12_test_r2', 'split13_test_r2', 'split14_test_r2', 'split15_test_r2', 'split16_test_r2', 'split17_test_r2', 'split18_test_r2', 'split19_test_r2', 'split20_test_r2', 'split21_test_r2', 'split22_test_r2', 'split23_test_r2', 'split24_test_r2', 'split25_test_r2', 'split26_test_r2', 'split27_test_r2', 'split28_test_r2', 'split29_test_r2', 'split30_test_r2', 'split31_test_r2', 'split32_test_r2', 'split33_test_r2', 'split34_test_r2', 'split35_test_r2', 'split36_test_r2', 'split37_test_r2', 'split38_test_r2', 'split39_test_r2', 'split40_test_r2', 'split41_test_r2', 'split42_test_r2', 'split43_test_r2', 'split44_test_r2', 'split45_test_r2', 'split46_test_r2', 'split47_test_r2', 'split48_test_r2', 'split49_test_r2', 'mean_test_r2', 'std_test_r2', 'rank_test_r2', 'split0_test_neg_mean_absolute_error', 'split1_test_neg_mean_absolute_error', 'split2_test_neg_mean_absolute_error', 'split3_test_neg_mean_absolute_error', 'split4_test_neg_mean_absolute_error', 'split5_test_neg_mean_absolute_error', 'split6_test_neg_mean_absolute_error', 'split7_test_neg_mean_absolute_error', 'split8_test_neg_mean_absolute_error', 'split9_test_neg_mean_absolute_error', 'split10_test_neg_mean_absolute_error', 'split11_test_neg_mean_absolute_error', 'split12_test_neg_mean_absolute_error', 'split13_test_neg_mean_absolute_error', 'split14_test_neg_mean_absolute_error', 'split15_test_neg_mean_absolute_error', 'split16_test_neg_mean_absolute_error', 'split17_test_neg_mean_absolute_error', 'split18_test_neg_mean_absolute_error', 'split19_test_neg_mean_absolute_error', 'split20_test_neg_mean_absolute_error', 'split21_test_neg_mean_absolute_error', 'split22_test_neg_mean_absolute_error', 'split23_test_neg_mean_absolute_error', 'split24_test_neg_mean_absolute_error', 'split25_test_neg_mean_absolute_error', 'split26_test_neg_mean_absolute_error', 'split27_test_neg_mean_absolute_error', 'split28_test_neg_mean_absolute_error', 'split29_test_neg_mean_absolute_error', 'split30_test_neg_mean_absolute_error', 'split31_test_neg_mean_absolute_error', 'split32_test_neg_mean_absolute_error', 'split33_test_neg_mean_absolute_error', 'split34_test_neg_mean_absolute_error', 'split35_test_neg_mean_absolute_error', 'split36_test_neg_mean_absolute_error', 'split37_test_neg_mean_absolute_error', 'split38_test_neg_mean_absolute_error', 'split39_test_neg_mean_absolute_error', 'split40_test_neg_mean_absolute_error', 'split41_test_neg_mean_absolute_error', 'split42_test_neg_mean_absolute_error', 'split43_test_neg_mean_absolute_error', 'split44_test_neg_mean_absolute_error', 'split45_test_neg_mean_absolute_error', 'split46_test_neg_mean_absolute_error', 'split47_test_neg_mean_absolute_error', 'split48_test_neg_mean_absolute_error', 'split49_test_neg_mean_absolute_error', 'mean_test_neg_mean_absolute_error', 'std_test_neg_mean_absolute_error', 'rank_test_neg_mean_absolute_error'])\n"
     ]
    }
   ],
   "source": [
    "print(model.cv_results_)\n",
    "print(model.cv_results_.keys())"
   ]
  },
  {
   "cell_type": "code",
   "execution_count": 92,
   "metadata": {},
   "outputs": [
    {
     "data": {
      "text/html": [
       "<div>\n",
       "<style scoped>\n",
       "    .dataframe tbody tr th:only-of-type {\n",
       "        vertical-align: middle;\n",
       "    }\n",
       "\n",
       "    .dataframe tbody tr th {\n",
       "        vertical-align: top;\n",
       "    }\n",
       "\n",
       "    .dataframe thead th {\n",
       "        text-align: right;\n",
       "    }\n",
       "</style>\n",
       "<table border=\"1\" class=\"dataframe\">\n",
       "  <thead>\n",
       "    <tr style=\"text-align: right;\">\n",
       "      <th></th>\n",
       "      <th>depth</th>\n",
       "      <th>rmse</th>\n",
       "      <th>r2</th>\n",
       "      <th>mae</th>\n",
       "      <th>rmseSD</th>\n",
       "      <th>r2SD</th>\n",
       "      <th>maeSD</th>\n",
       "    </tr>\n",
       "  </thead>\n",
       "  <tbody>\n",
       "    <tr>\n",
       "      <th>0</th>\n",
       "      <td>1</td>\n",
       "      <td>6.014785e+07</td>\n",
       "      <td>0.278619</td>\n",
       "      <td>3.952670e+07</td>\n",
       "      <td>6.731380e+14</td>\n",
       "      <td>0.079490</td>\n",
       "      <td>2.321644e+06</td>\n",
       "    </tr>\n",
       "    <tr>\n",
       "      <th>1</th>\n",
       "      <td>2</td>\n",
       "      <td>5.350682e+07</td>\n",
       "      <td>0.426288</td>\n",
       "      <td>3.400341e+07</td>\n",
       "      <td>4.797930e+14</td>\n",
       "      <td>0.072602</td>\n",
       "      <td>1.910046e+06</td>\n",
       "    </tr>\n",
       "    <tr>\n",
       "      <th>2</th>\n",
       "      <td>3</td>\n",
       "      <td>4.957163e+07</td>\n",
       "      <td>0.507367</td>\n",
       "      <td>3.064571e+07</td>\n",
       "      <td>4.511063e+14</td>\n",
       "      <td>0.071740</td>\n",
       "      <td>1.865415e+06</td>\n",
       "    </tr>\n",
       "    <tr>\n",
       "      <th>3</th>\n",
       "      <td>4</td>\n",
       "      <td>4.759845e+07</td>\n",
       "      <td>0.547962</td>\n",
       "      <td>2.927472e+07</td>\n",
       "      <td>5.198757e+14</td>\n",
       "      <td>0.075591</td>\n",
       "      <td>1.896075e+06</td>\n",
       "    </tr>\n",
       "  </tbody>\n",
       "</table>\n",
       "</div>"
      ],
      "text/plain": [
       "   depth          rmse        r2           mae        rmseSD      r2SD  \\\n",
       "0      1  6.014785e+07  0.278619  3.952670e+07  6.731380e+14  0.079490   \n",
       "1      2  5.350682e+07  0.426288  3.400341e+07  4.797930e+14  0.072602   \n",
       "2      3  4.957163e+07  0.507367  3.064571e+07  4.511063e+14  0.071740   \n",
       "3      4  4.759845e+07  0.547962  2.927472e+07  5.198757e+14  0.075591   \n",
       "\n",
       "          maeSD  \n",
       "0  2.321644e+06  \n",
       "1  1.910046e+06  \n",
       "2  1.865415e+06  \n",
       "3  1.896075e+06  "
      ]
     },
     "execution_count": 92,
     "metadata": {},
     "output_type": "execute_result"
    }
   ],
   "source": [
    "#Let's extract these scores based on depth!\n",
    "\n",
    "#I have negative mean squared error so I need to take absolute value and square root to convert to root mean squared error\n",
    "mean_sq_err = np.sqrt(abs(model.cv_results_['mean_test_neg_mean_squared_error']))\n",
    "#nothing needs to be done for r2, it is the same\n",
    "r2= model.cv_results_['mean_test_r2']\n",
    "#Have negative mean absolute error so need to take absolute value\n",
    "mean_abs_error= abs(model.cv_results_['mean_test_neg_mean_absolute_error'])\n",
    "\n",
    "#Get standard deviations as well...\n",
    "SDmean_se =  model.cv_results_['std_test_neg_mean_squared_error']\n",
    "SDr2= model.cv_results_['std_test_r2']\n",
    "SDmean_abs_error= model.cv_results_['std_test_neg_mean_absolute_error']\n",
    "\n",
    "#Parameter:\n",
    "depth= np.unique(model.cv_results_['param_max_depth']).data\n",
    "\n",
    "#Build DataFrame:\n",
    "finalmodel = pd.DataFrame(list(zip(depth, mean_sq_err, r2,mean_abs_error, SDmean_se,SDr2,SDmean_abs_error)),\n",
    "               columns =['depth','rmse','r2','mae',\"rmseSD\",'r2SD','maeSD'])\n",
    "\n",
    "#Let's see it\n",
    "finalmodel"
   ]
  },
  {
   "cell_type": "code",
   "execution_count": 93,
   "metadata": {},
   "outputs": [
    {
     "name": "stdout",
     "output_type": "stream",
     "text": [
      "[<matplotlib.lines.Line2D object at 0x0000022089E429D0>]\n"
     ]
    },
    {
     "data": {
      "image/png": "[encoded data removed]",
      "text/plain": [
       "<Figure size 640x480 with 1 Axes>"
      ]
     },
     "metadata": {},
     "output_type": "display_data"
    }
   ],
   "source": [
    "print(plt.plot(finalmodel.depth, finalmodel.rmse))"
   ]
  },
  {
   "cell_type": "markdown",
   "metadata": {},
   "source": [
    "#14 Which variables appear to be contributing the most (variable importance) "
   ]
  },
  {
   "cell_type": "code",
   "execution_count": 94,
   "metadata": {},
   "outputs": [
    {
     "name": "stdout",
     "output_type": "stream",
     "text": [
      "                           importance\n",
      "num_voted_users              0.654230\n",
      "budget                       0.251829\n",
      "content_rating               0.049549\n",
      "duration                     0.028776\n",
      "movie_facebook_likes         0.015617\n",
      "country                      0.000000\n",
      "aspect_ratio                 0.000000\n",
      "imdb_score                   0.000000\n",
      "actor_2_facebook_likes       0.000000\n",
      "title_year                   0.000000\n",
      "color                        0.000000\n",
      "language                     0.000000\n",
      "num_critic_for_reviews       0.000000\n",
      "facenumber_in_poster         0.000000\n",
      "cast_total_facebook_likes    0.000000\n",
      "actor_1_facebook_likes       0.000000\n",
      "actor_3_facebook_likes       0.000000\n",
      "director_facebook_likes      0.000000\n",
      "num_user_for_reviews         0.000000\n"
     ]
    }
   ],
   "source": [
    "variable_importance=pd.DataFrame(bestest.feature_importances_,index = X.columns,columns=['importance']).sort_values('importance', ascending=False)\n",
    "print(variable_importance)"
   ]
  },
  {
   "cell_type": "markdown",
   "metadata": {},
   "source": [
    "#15 Create a model object using the best model hyperparameter value from the trained regression tree. "
   ]
  },
  {
   "cell_type": "code",
   "execution_count": 95,
   "metadata": {},
   "outputs": [
    {
     "data": {
      "text/html": [
       "<style>#sk-container-id-3 {color: black;}#sk-container-id-3 pre{padding: 0;}#sk-container-id-3 div.sk-toggleable {background-color: white;}#sk-container-id-3 label.sk-toggleable__label {cursor: pointer;display: block;width: 100%;margin-bottom: 0;padding: 0.3em;box-sizing: border-box;text-align: center;}#sk-container-id-3 label.sk-toggleable__label-arrow:before {content: \"▸\";float: left;margin-right: 0.25em;color: #696969;}#sk-container-id-3 label.sk-toggleable__label-arrow:hover:before {color: black;}#sk-container-id-3 div.sk-estimator:hover label.sk-toggleable__label-arrow:before {color: black;}#sk-container-id-3 div.sk-toggleable__content {max-height: 0;max-width: 0;overflow: hidden;text-align: left;background-color: #f0f8ff;}#sk-container-id-3 div.sk-toggleable__content pre {margin: 0.2em;color: black;border-radius: 0.25em;background-color: #f0f8ff;}#sk-container-id-3 input.sk-toggleable__control:checked~div.sk-toggleable__content {max-height: 200px;max-width: 100%;overflow: auto;}#sk-container-id-3 input.sk-toggleable__control:checked~label.sk-toggleable__label-arrow:before {content: \"▾\";}#sk-container-id-3 div.sk-estimator input.sk-toggleable__control:checked~label.sk-toggleable__label {background-color: #d4ebff;}#sk-container-id-3 div.sk-label input.sk-toggleable__control:checked~label.sk-toggleable__label {background-color: #d4ebff;}#sk-container-id-3 input.sk-hidden--visually {border: 0;clip: rect(1px 1px 1px 1px);clip: rect(1px, 1px, 1px, 1px);height: 1px;margin: -1px;overflow: hidden;padding: 0;position: absolute;width: 1px;}#sk-container-id-3 div.sk-estimator {font-family: monospace;background-color: #f0f8ff;border: 1px dotted black;border-radius: 0.25em;box-sizing: border-box;margin-bottom: 0.5em;}#sk-container-id-3 div.sk-estimator:hover {background-color: #d4ebff;}#sk-container-id-3 div.sk-parallel-item::after {content: \"\";width: 100%;border-bottom: 1px solid gray;flex-grow: 1;}#sk-container-id-3 div.sk-label:hover label.sk-toggleable__label {background-color: #d4ebff;}#sk-container-id-3 div.sk-serial::before {content: \"\";position: absolute;border-left: 1px solid gray;box-sizing: border-box;top: 0;bottom: 0;left: 50%;z-index: 0;}#sk-container-id-3 div.sk-serial {display: flex;flex-direction: column;align-items: center;background-color: white;padding-right: 0.2em;padding-left: 0.2em;position: relative;}#sk-container-id-3 div.sk-item {position: relative;z-index: 1;}#sk-container-id-3 div.sk-parallel {display: flex;align-items: stretch;justify-content: center;background-color: white;position: relative;}#sk-container-id-3 div.sk-item::before, #sk-container-id-3 div.sk-parallel-item::before {content: \"\";position: absolute;border-left: 1px solid gray;box-sizing: border-box;top: 0;bottom: 0;left: 50%;z-index: -1;}#sk-container-id-3 div.sk-parallel-item {display: flex;flex-direction: column;z-index: 1;position: relative;background-color: white;}#sk-container-id-3 div.sk-parallel-item:first-child::after {align-self: flex-end;width: 50%;}#sk-container-id-3 div.sk-parallel-item:last-child::after {align-self: flex-start;width: 50%;}#sk-container-id-3 div.sk-parallel-item:only-child::after {width: 0;}#sk-container-id-3 div.sk-dashed-wrapped {border: 1px dashed gray;margin: 0 0.4em 0.5em 0.4em;box-sizing: border-box;padding-bottom: 0.4em;background-color: white;}#sk-container-id-3 div.sk-label label {font-family: monospace;font-weight: bold;display: inline-block;line-height: 1.2em;}#sk-container-id-3 div.sk-label-container {text-align: center;}#sk-container-id-3 div.sk-container {/* jupyter's `normalize.less` sets `[hidden] { display: none; }` but bootstrap.min.css set `[hidden] { display: none !important; }` so we also need the `!important` here to be able to override the default hidden behavior on the sphinx rendered scikit-learn.org. See: https://github.com/scikit-learn/scikit-learn/issues/21755 */display: inline-block !important;position: relative;}#sk-container-id-3 div.sk-text-repr-fallback {display: none;}</style><div id=\"sk-container-id-3\" class=\"sk-top-container\"><div class=\"sk-text-repr-fallback\"><pre>DecisionTreeRegressor(max_depth=4, random_state=30)</pre><b>In a Jupyter environment, please rerun this cell to show the HTML representation or trust the notebook. <br />On GitHub, the HTML representation is unable to render, please try loading this page with nbviewer.org.</b></div><div class=\"sk-container\" hidden><div class=\"sk-item\"><div class=\"sk-estimator sk-toggleable\"><input class=\"sk-toggleable__control sk-hidden--visually\" id=\"sk-estimator-id-3\" type=\"checkbox\" checked><label for=\"sk-estimator-id-3\" class=\"sk-toggleable__label sk-toggleable__label-arrow\">DecisionTreeRegressor</label><div class=\"sk-toggleable__content\"><pre>DecisionTreeRegressor(max_depth=4, random_state=30)</pre></div></div></div></div></div>"
      ],
      "text/plain": [
       "DecisionTreeRegressor(max_depth=4, random_state=30)"
      ]
     },
     "execution_count": 95,
     "metadata": {},
     "output_type": "execute_result"
    }
   ],
   "source": [
    "bestest.fit(X_train,y_train)"
   ]
  },
  {
   "cell_type": "markdown",
   "metadata": {},
   "source": [
    "#16 Using the best model predict on the test data and print out the results."
   ]
  },
  {
   "cell_type": "code",
   "execution_count": 96,
   "metadata": {},
   "outputs": [
    {
     "name": "stdout",
     "output_type": "stream",
     "text": [
      "[1.14246801e+07 4.05505088e+07 1.14246801e+07 1.36964596e+08\n",
      " 6.50537424e+07 4.05505088e+07 1.36964596e+08 1.36964596e+08\n",
      " 2.45988578e+08 3.48762264e+07]\n"
     ]
    }
   ],
   "source": [
    "pred=bestest.predict(X_test)\n",
    "print(pred[:10])"
   ]
  },
  {
   "cell_type": "markdown",
   "metadata": {},
   "source": [
    "#17 How does the model perform on the test data as compared to the training data?"
   ]
  },
  {
   "cell_type": "code",
   "execution_count": 97,
   "metadata": {},
   "outputs": [
    {
     "name": "stdout",
     "output_type": "stream",
     "text": [
      "0.6364013256035417\n",
      "0.6562816568130538\n"
     ]
    }
   ],
   "source": [
    "print(bestest.score(X_test, y_test))\n",
    "print(bestest.score(X_train, y_train))"
   ]
  },
  {
   "cell_type": "code",
   "execution_count": 98,
   "metadata": {},
   "outputs": [
    {
     "name": "stdout",
     "output_type": "stream",
     "text": [
      "0.6364013256035417\n"
     ]
    }
   ],
   "source": [
    "print(metrics.r2_score(y_test, pred))"
   ]
  },
  {
   "cell_type": "code",
   "execution_count": 99,
   "metadata": {},
   "outputs": [
    {
     "name": "stdout",
     "output_type": "stream",
     "text": [
      "Training RMeanSE: 41688809.91733551\n",
      "Test RMeanSE: 38488122.557785444\n",
      "Training R-squared (R2): 0.6562816568130538\n",
      "Test R-squared (R2): 0.6364013256035417\n",
      "Training MeanAbsError: 27163146.343904853\n",
      "Test MeanAbsError: 26889986.37660065\n"
     ]
    }
   ],
   "source": [
    "# Assuming you have fitted the model on the training data and predicted on the test data\n",
    "from sklearn.metrics import mean_squared_error\n",
    "from sklearn.metrics import mean_absolute_error\n",
    "\n",
    "# Calculate metrics on training data\n",
    "train_rmean_se = np.sqrt(mean_squared_error(y_train, bestest.predict(X_train)))\n",
    "train_r2 = metrics.r2_score(y_train, bestest.predict(X_train))\n",
    "train_mean_abs_error = mean_absolute_error(y_train, bestest.predict(X_train))\n",
    "\n",
    "# Calculate metrics on test data\n",
    "test_rmean_se = np.sqrt(mean_squared_error(y_test, pred))\n",
    "test_r2 = metrics.r2_score(y_test, pred)\n",
    "test_mean_abs_error = mean_absolute_error(y_test, pred)\n",
    "\n",
    "# Compare the metrics\n",
    "print(\"Training RMeanSE:\", train_rmean_se)\n",
    "print(\"Test RMeanSE:\", test_rmean_se)\n",
    "print(\"Training R-squared (R2):\", train_r2)\n",
    "print(\"Test R-squared (R2):\", test_r2)\n",
    "print(\"Training MeanAbsError:\", train_mean_abs_error)\n",
    "print(\"Test MeanAbsError:\", test_mean_abs_error)"
   ]
  },
  {
   "cell_type": "markdown",
   "metadata": {},
   "source": [
    "#18 What five movies are predicted to have the lowest gross revenue from the test set? "
   ]
  },
  {
   "cell_type": "code",
   "execution_count": 100,
   "metadata": {},
   "outputs": [
    {
     "data": {
      "text/html": [
       "<div>\n",
       "<style scoped>\n",
       "    .dataframe tbody tr th:only-of-type {\n",
       "        vertical-align: middle;\n",
       "    }\n",
       "\n",
       "    .dataframe tbody tr th {\n",
       "        vertical-align: top;\n",
       "    }\n",
       "\n",
       "    .dataframe thead th {\n",
       "        text-align: right;\n",
       "    }\n",
       "</style>\n",
       "<table border=\"1\" class=\"dataframe\">\n",
       "  <thead>\n",
       "    <tr style=\"text-align: right;\">\n",
       "      <th></th>\n",
       "      <th>color</th>\n",
       "      <th>num_critic_for_reviews</th>\n",
       "      <th>duration</th>\n",
       "      <th>director_facebook_likes</th>\n",
       "      <th>actor_3_facebook_likes</th>\n",
       "      <th>actor_1_facebook_likes</th>\n",
       "      <th>num_voted_users</th>\n",
       "      <th>cast_total_facebook_likes</th>\n",
       "      <th>facenumber_in_poster</th>\n",
       "      <th>num_user_for_reviews</th>\n",
       "      <th>...</th>\n",
       "      <th>content_rating</th>\n",
       "      <th>budget</th>\n",
       "      <th>title_year</th>\n",
       "      <th>actor_2_facebook_likes</th>\n",
       "      <th>imdb_score</th>\n",
       "      <th>aspect_ratio</th>\n",
       "      <th>movie_facebook_likes</th>\n",
       "      <th>predicted_gross</th>\n",
       "      <th>gross</th>\n",
       "      <th>title</th>\n",
       "    </tr>\n",
       "  </thead>\n",
       "  <tbody>\n",
       "    <tr>\n",
       "      <th>1912</th>\n",
       "      <td>1.0</td>\n",
       "      <td>38.0</td>\n",
       "      <td>85.0</td>\n",
       "      <td>0.0</td>\n",
       "      <td>503.0</td>\n",
       "      <td>1000.0</td>\n",
       "      <td>12218</td>\n",
       "      <td>2908</td>\n",
       "      <td>0.0</td>\n",
       "      <td>33.0</td>\n",
       "      <td>...</td>\n",
       "      <td>1.0</td>\n",
       "      <td>25000000.0</td>\n",
       "      <td>2002.0</td>\n",
       "      <td>535.0</td>\n",
       "      <td>5.2</td>\n",
       "      <td>2.35</td>\n",
       "      <td>187</td>\n",
       "      <td>1.142468e+07</td>\n",
       "      <td>39880476.0</td>\n",
       "      <td>The Wild Thornberrys Movie</td>\n",
       "    </tr>\n",
       "    <tr>\n",
       "      <th>1995</th>\n",
       "      <td>1.0</td>\n",
       "      <td>60.0</td>\n",
       "      <td>104.0</td>\n",
       "      <td>54.0</td>\n",
       "      <td>919.0</td>\n",
       "      <td>6000.0</td>\n",
       "      <td>24790</td>\n",
       "      <td>9662</td>\n",
       "      <td>0.0</td>\n",
       "      <td>173.0</td>\n",
       "      <td>...</td>\n",
       "      <td>0.0</td>\n",
       "      <td>25000000.0</td>\n",
       "      <td>1995.0</td>\n",
       "      <td>923.0</td>\n",
       "      <td>5.2</td>\n",
       "      <td>2.35</td>\n",
       "      <td>0</td>\n",
       "      <td>1.142468e+07</td>\n",
       "      <td>4064333.0</td>\n",
       "      <td>Tank Girl</td>\n",
       "    </tr>\n",
       "    <tr>\n",
       "      <th>4240</th>\n",
       "      <td>1.0</td>\n",
       "      <td>67.0</td>\n",
       "      <td>89.0</td>\n",
       "      <td>16.0</td>\n",
       "      <td>14.0</td>\n",
       "      <td>117.0</td>\n",
       "      <td>12244</td>\n",
       "      <td>155</td>\n",
       "      <td>0.0</td>\n",
       "      <td>95.0</td>\n",
       "      <td>...</td>\n",
       "      <td>0.0</td>\n",
       "      <td>15500000.0</td>\n",
       "      <td>2001.0</td>\n",
       "      <td>21.0</td>\n",
       "      <td>7.6</td>\n",
       "      <td>1.85</td>\n",
       "      <td>0</td>\n",
       "      <td>1.142468e+07</td>\n",
       "      <td>313436.0</td>\n",
       "      <td>Elling</td>\n",
       "    </tr>\n",
       "    <tr>\n",
       "      <th>4725</th>\n",
       "      <td>1.0</td>\n",
       "      <td>5.0</td>\n",
       "      <td>86.0</td>\n",
       "      <td>24.0</td>\n",
       "      <td>142.0</td>\n",
       "      <td>407.0</td>\n",
       "      <td>3411</td>\n",
       "      <td>1090</td>\n",
       "      <td>0.0</td>\n",
       "      <td>36.0</td>\n",
       "      <td>...</td>\n",
       "      <td>1.0</td>\n",
       "      <td>500000.0</td>\n",
       "      <td>1974.0</td>\n",
       "      <td>189.0</td>\n",
       "      <td>6.1</td>\n",
       "      <td>1.85</td>\n",
       "      <td>816</td>\n",
       "      <td>1.142468e+07</td>\n",
       "      <td>39552600.0</td>\n",
       "      <td>Benji</td>\n",
       "    </tr>\n",
       "    <tr>\n",
       "      <th>2773</th>\n",
       "      <td>1.0</td>\n",
       "      <td>86.0</td>\n",
       "      <td>109.0</td>\n",
       "      <td>41.0</td>\n",
       "      <td>748.0</td>\n",
       "      <td>997.0</td>\n",
       "      <td>19505</td>\n",
       "      <td>3544</td>\n",
       "      <td>0.0</td>\n",
       "      <td>162.0</td>\n",
       "      <td>...</td>\n",
       "      <td>2.0</td>\n",
       "      <td>14000000.0</td>\n",
       "      <td>2007.0</td>\n",
       "      <td>826.0</td>\n",
       "      <td>5.2</td>\n",
       "      <td>2.35</td>\n",
       "      <td>0</td>\n",
       "      <td>1.142468e+07</td>\n",
       "      <td>61356221.0</td>\n",
       "      <td>Stomp the Yard</td>\n",
       "    </tr>\n",
       "  </tbody>\n",
       "</table>\n",
       "<p>5 rows × 22 columns</p>\n",
       "</div>"
      ],
      "text/plain": [
       "      color  num_critic_for_reviews  duration  director_facebook_likes  \\\n",
       "1912    1.0                    38.0      85.0                      0.0   \n",
       "1995    1.0                    60.0     104.0                     54.0   \n",
       "4240    1.0                    67.0      89.0                     16.0   \n",
       "4725    1.0                     5.0      86.0                     24.0   \n",
       "2773    1.0                    86.0     109.0                     41.0   \n",
       "\n",
       "      actor_3_facebook_likes  actor_1_facebook_likes  num_voted_users  \\\n",
       "1912                   503.0                  1000.0            12218   \n",
       "1995                   919.0                  6000.0            24790   \n",
       "4240                    14.0                   117.0            12244   \n",
       "4725                   142.0                   407.0             3411   \n",
       "2773                   748.0                   997.0            19505   \n",
       "\n",
       "      cast_total_facebook_likes  facenumber_in_poster  num_user_for_reviews  \\\n",
       "1912                       2908                   0.0                  33.0   \n",
       "1995                       9662                   0.0                 173.0   \n",
       "4240                        155                   0.0                  95.0   \n",
       "4725                       1090                   0.0                  36.0   \n",
       "2773                       3544                   0.0                 162.0   \n",
       "\n",
       "      ...  content_rating      budget  title_year  actor_2_facebook_likes  \\\n",
       "1912  ...             1.0  25000000.0      2002.0                   535.0   \n",
       "1995  ...             0.0  25000000.0      1995.0                   923.0   \n",
       "4240  ...             0.0  15500000.0      2001.0                    21.0   \n",
       "4725  ...             1.0    500000.0      1974.0                   189.0   \n",
       "2773  ...             2.0  14000000.0      2007.0                   826.0   \n",
       "\n",
       "      imdb_score  aspect_ratio  movie_facebook_likes  predicted_gross  \\\n",
       "1912         5.2          2.35                   187     1.142468e+07   \n",
       "1995         5.2          2.35                     0     1.142468e+07   \n",
       "4240         7.6          1.85                     0     1.142468e+07   \n",
       "4725         6.1          1.85                   816     1.142468e+07   \n",
       "2773         5.2          2.35                     0     1.142468e+07   \n",
       "\n",
       "           gross                        title  \n",
       "1912  39880476.0  The Wild Thornberrys Movie   \n",
       "1995   4064333.0                   Tank Girl   \n",
       "4240    313436.0                      Elling   \n",
       "4725  39552600.0                       Benji   \n",
       "2773  61356221.0              Stomp the Yard   \n",
       "\n",
       "[5 rows x 22 columns]"
      ]
     },
     "execution_count": 100,
     "metadata": {},
     "output_type": "execute_result"
    }
   ],
   "source": [
    "y_pred = bestest.predict(X_test)\n",
    "test_data = X_test.copy()\n",
    "test_data['predicted_gross'] = y_pred\n",
    "top_5 = test_data.sort_values(by='predicted_gross', ascending=True).head(5)\n",
    "top_5['gross']= y_test.loc[top_5.index].values\n",
    "top_5['title'] = movie_metadatav2.loc[top_5.index, 'movie_title'].values\n",
    "top_5"
   ]
  },
  {
   "cell_type": "markdown",
   "metadata": {},
   "source": [
    "#19 Summarize what you learned along the way and make recommendations on how this could be used moving forward, being careful not to over promise."
   ]
  },
  {
   "cell_type": "markdown",
   "metadata": {},
   "source": [
    "I would say the same stuff from part 1's assignment! A crucial lesson I gained through this experience is recognizing the significance of appropriately labeling variables and incorporating comments in my code for clarity. Although this model requires further refinement, its performance has not been that impressive (63%). The confusion matrix revealed that the model's accuracy was lacking. Moving forward, I contemplate constructing the model, assessing feature importance, and subsequently rebuilding it, ensuring that only influential features affect the model. In summary, I believe understanding the importance of feature significance is the most valuable takeaway, and I am convinced it should not be underestimated in upcoming projects."
   ]
  }
 ],
 "metadata": {
  "kernelspec": {
   "display_name": "FMLF23",
   "language": "python",
   "name": "python3"
  },
  "language_info": {
   "codemirror_mode": {
    "name": "ipython",
    "version": 3
   },
   "file_extension": ".py",
   "mimetype": "text/x-python",
   "name": "python",
   "nbconvert_exporter": "python",
   "pygments_lexer": "ipython3",
   "version": "3.11.4"
  }
 },
 "nbformat": 4,
 "nbformat_minor": 2
}
